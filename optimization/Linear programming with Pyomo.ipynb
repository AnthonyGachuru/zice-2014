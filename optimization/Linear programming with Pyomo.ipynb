{
 "metadata": {
  "name": ""
 },
 "nbformat": 3,
 "nbformat_minor": 0,
 "worksheets": [
  {
   "cells": [
    {
     "cell_type": "code",
     "collapsed": false,
     "input": [
      "import math\n",
      "from coopr import opt, pyomo\n",
      "import yaml"
     ],
     "language": "python",
     "metadata": {},
     "outputs": [],
     "prompt_number": 215
    },
    {
     "cell_type": "markdown",
     "metadata": {},
     "source": [
      "The [A COmmon Optimization Python Repository (Coopr)](https://software.sandia.gov/trac/coopr/wiki/Documentation/CooprOverview) library. Coopr is a collection of Python software packages that supports a diverse set of optimization capabilities for formulating and analyzing optimization models. A key driver for Coopr development is [Pyomo](https://software.sandia.gov/trac/coopr/wiki/Pyomo), an open source tool for modeling optimization applications in Python. Pyomo can be used to define symbolic problems, create concrete problem instances, and solve these instances with standard solvers. Thus, Pyomo provides a capability that is commonly associated with algebraic modeling languages like AMPL and GAMS.\n",
      "\n",
      "The Coopr [wiki](https://software.sandia.gov/trac/coopr/wiki) and [blog](https://software.sandia.gov/trac/coopr/blog/) libraries developed by the Sandia National Lab.  More [Coopr documentation](https://software.sandia.gov/trac/coopr/wiki/Documentation)\n",
      "\n",
      "First you will need to install a linear programming solver. A good default is the [GNU Linear Progamming Kit] (`GLPK`)](http://www.gnu.org/software/glpk/). The `GLPK` package includes the following main components:\n",
      "\n",
      "* primal and dual simplex methods\n",
      "* primal-dual interior-point method\n",
      "* branch-and-cut method\n",
      "* translator for GNU MathProg\n",
      "* application program interface (API)\n",
      "* stand-alone LP/MIP solver\n",
      "\n",
      "Installation prodcedure for Mac users is simple:\n",
      "\n",
      "1. install [Homebrew](http://brew.sh/)\n",
      "2. `$ brew tap homebrew/science`\n",
      "3. `$ brew install glpk`\n",
      "\n",
      "If you have an academic email address then you are eligible to obtain and re-newable academic license for a full version of [Gurobi](http://www.gurobi.com/). Most recent version of Gurobi solver requires OSX 10.7 or newer."
     ]
    },
    {
     "cell_type": "code",
     "collapsed": false,
     "input": [
      "# create an instance of the ConcreteModel class\n",
      "model = pyomo.ConcreteModel()\n",
      "\n",
      "# declare variables\n",
      "model.x1 = pyomo.Var(within=pyomo.NonNegativeReals)\n",
      "model.x2 = pyomo.Var(within=pyomo.NonNegativeReals)\n",
      "\n",
      "# declare objective function\n",
      "model.obj = pyomo.Objective(expr=model.x1 + 2 * model.x2)\n",
      "\n",
      "# declare constraints\n",
      "model.cons1 = pyomo.Constraint(expr=3 * model.x1 + 4 * model.x2 >= 1)\n",
      "model.cons2 = pyomo.Constraint(expr=2 * model.x1 + 5 * model.c2 >= 2)"
     ],
     "language": "python",
     "metadata": {},
     "outputs": []
    },
    {
     "cell_type": "code",
     "collapsed": false,
     "input": [
      "# supplying data using Python data structures\n",
      "N = [1, 2]\n",
      "c = {1:1, 2:2}\n",
      "a = {(1,1):3, (1,2):4, (2,1):2, (2,2):5}\n",
      "b = {1:1, 1:2}\n",
      "\n",
      "# create an instance of the ConcreteModel class\n",
      "model = pyomo.ConcreteModel()\n",
      "\n",
      "# declare objective function\n",
      "model.obj = pyomo.Objective(expr=sum(c[i] * model.x[i] for i in N))"
     ],
     "language": "python",
     "metadata": {},
     "outputs": [
      {
       "ename": "AttributeError",
       "evalue": "'ConcreteModel' object has no attribute 'x'",
       "output_type": "pyerr",
       "traceback": [
        "\u001b[0;31m---------------------------------------------------------------------------\u001b[0m\n\u001b[0;31mAttributeError\u001b[0m                            Traceback (most recent call last)",
        "\u001b[0;32m<ipython-input-210-0fd0e77dabc4>\u001b[0m in \u001b[0;36m<module>\u001b[0;34m()\u001b[0m\n\u001b[1;32m      9\u001b[0m \u001b[0;34m\u001b[0m\u001b[0m\n\u001b[1;32m     10\u001b[0m \u001b[0;31m# declare objective function\u001b[0m\u001b[0;34m\u001b[0m\u001b[0;34m\u001b[0m\u001b[0m\n\u001b[0;32m---> 11\u001b[0;31m \u001b[0mmodel\u001b[0m\u001b[0;34m.\u001b[0m\u001b[0mobj\u001b[0m \u001b[0;34m=\u001b[0m \u001b[0mpyomo\u001b[0m\u001b[0;34m.\u001b[0m\u001b[0mObjective\u001b[0m\u001b[0;34m(\u001b[0m\u001b[0mexpr\u001b[0m\u001b[0;34m=\u001b[0m\u001b[0msum\u001b[0m\u001b[0;34m(\u001b[0m\u001b[0mc\u001b[0m\u001b[0;34m[\u001b[0m\u001b[0mi\u001b[0m\u001b[0;34m]\u001b[0m \u001b[0;34m*\u001b[0m \u001b[0mmodel\u001b[0m\u001b[0;34m.\u001b[0m\u001b[0mx\u001b[0m\u001b[0;34m[\u001b[0m\u001b[0mi\u001b[0m\u001b[0;34m]\u001b[0m \u001b[0;32mfor\u001b[0m \u001b[0mi\u001b[0m \u001b[0;32min\u001b[0m \u001b[0mN\u001b[0m\u001b[0;34m)\u001b[0m\u001b[0;34m)\u001b[0m\u001b[0;34m\u001b[0m\u001b[0m\n\u001b[0m",
        "\u001b[0;32m/Users/clarissasweet/Library/Enthought/Canopy_32bit/User/lib/python2.7/site-packages/numpy/core/fromnumeric.pyc\u001b[0m in \u001b[0;36msum\u001b[0;34m(a, axis, dtype, out, keepdims)\u001b[0m\n\u001b[1;32m   1697\u001b[0m     \"\"\"\n\u001b[1;32m   1698\u001b[0m     \u001b[0;32mif\u001b[0m \u001b[0misinstance\u001b[0m\u001b[0;34m(\u001b[0m\u001b[0ma\u001b[0m\u001b[0;34m,\u001b[0m \u001b[0m_gentype\u001b[0m\u001b[0;34m)\u001b[0m\u001b[0;34m:\u001b[0m\u001b[0;34m\u001b[0m\u001b[0m\n\u001b[0;32m-> 1699\u001b[0;31m         \u001b[0mres\u001b[0m \u001b[0;34m=\u001b[0m \u001b[0m_sum_\u001b[0m\u001b[0;34m(\u001b[0m\u001b[0ma\u001b[0m\u001b[0;34m)\u001b[0m\u001b[0;34m\u001b[0m\u001b[0m\n\u001b[0m\u001b[1;32m   1700\u001b[0m         \u001b[0;32mif\u001b[0m \u001b[0mout\u001b[0m \u001b[0;32mis\u001b[0m \u001b[0;32mnot\u001b[0m \u001b[0mNone\u001b[0m\u001b[0;34m:\u001b[0m\u001b[0;34m\u001b[0m\u001b[0m\n\u001b[1;32m   1701\u001b[0m             \u001b[0mout\u001b[0m\u001b[0;34m[\u001b[0m\u001b[0;34m.\u001b[0m\u001b[0;34m.\u001b[0m\u001b[0;34m.\u001b[0m\u001b[0;34m]\u001b[0m \u001b[0;34m=\u001b[0m \u001b[0mres\u001b[0m\u001b[0;34m\u001b[0m\u001b[0m\n",
        "\u001b[0;32m<ipython-input-210-0fd0e77dabc4>\u001b[0m in \u001b[0;36m<genexpr>\u001b[0;34m((i,))\u001b[0m\n\u001b[1;32m      9\u001b[0m \u001b[0;34m\u001b[0m\u001b[0m\n\u001b[1;32m     10\u001b[0m \u001b[0;31m# declare objective function\u001b[0m\u001b[0;34m\u001b[0m\u001b[0;34m\u001b[0m\u001b[0m\n\u001b[0;32m---> 11\u001b[0;31m \u001b[0mmodel\u001b[0m\u001b[0;34m.\u001b[0m\u001b[0mobj\u001b[0m \u001b[0;34m=\u001b[0m \u001b[0mpyomo\u001b[0m\u001b[0;34m.\u001b[0m\u001b[0mObjective\u001b[0m\u001b[0;34m(\u001b[0m\u001b[0mexpr\u001b[0m\u001b[0;34m=\u001b[0m\u001b[0msum\u001b[0m\u001b[0;34m(\u001b[0m\u001b[0mc\u001b[0m\u001b[0;34m[\u001b[0m\u001b[0mi\u001b[0m\u001b[0;34m]\u001b[0m \u001b[0;34m*\u001b[0m \u001b[0mmodel\u001b[0m\u001b[0;34m.\u001b[0m\u001b[0mx\u001b[0m\u001b[0;34m[\u001b[0m\u001b[0mi\u001b[0m\u001b[0;34m]\u001b[0m \u001b[0;32mfor\u001b[0m \u001b[0mi\u001b[0m \u001b[0;32min\u001b[0m \u001b[0mN\u001b[0m\u001b[0;34m)\u001b[0m\u001b[0;34m)\u001b[0m\u001b[0;34m\u001b[0m\u001b[0m\n\u001b[0m",
        "\u001b[0;31mAttributeError\u001b[0m: 'ConcreteModel' object has no attribute 'x'"
       ]
      }
     ],
     "prompt_number": 210
    },
    {
     "cell_type": "markdown",
     "metadata": {},
     "source": [
      "Simple example of a linear programming problem:\n",
      "\n",
      "$$ \\min\\ \\sum_{j=1}^n c_jx_j $$\n",
      "\n",
      "subject to generic constraints:\n",
      "\n",
      "\\begin{align}\n",
      "    \\sum_{j=1}^n a_{ij}x_j \\ge& b_i \\forall i = 1,\\dots,m \\\\\n",
      "    x_j \\ge& 0\\ \\forall j = 1,\\dots,n\n",
      "\\end{align}\n",
      "\n",
      "The Python script below demonstrates how to define and abstract representation of this model using Pyomo. This code was taken directly from the [getting started with Coopr and Pyomo](https://software.sandia.gov/trac/coopr/downloader/download/file/65/CooprGettingStarted.pdf) tutorial. "
     ]
    },
    {
     "cell_type": "code",
     "collapsed": false,
     "input": [
      "%%writefile abstract.py\n",
      "from __future__ import division\n",
      "from coopr import pyomo\n",
      "\n",
      "# define an abstract model\n",
      "model = pyomo.AbstractModel()\n",
      "\n",
      "# add number of linear constraints as attribute \n",
      "model.m = pyomo.Param(within=pyomo.NonNegativeIntegers)\n",
      "model.n = pyomo.Param(within=pyomo.NonNegativeIntegers)\n",
      "\n",
      "# although not required, it is convenient to define index sets\n",
      "model.I = pyomo.RangeSet(1, model.m)\n",
      "model.J = pyomo.RangeSet(1, model.n)\n",
      "\n",
      "# now we define the coefficients (which are themselves defined over index sets!)\n",
      "model.a = pyomo.Param(model.I, model.J)\n",
      "model.b = pyomo.Param(model.I)\n",
      "model.c = pyomo.Param(model.J)\n",
      "\n",
      "# the next line declares a variable indexed by the set J\n",
      "model.x = pyomo.Var(model.J, domain=pyomo.NonNegativeReals)\n",
      "\n",
      "def objective(model):\n",
      "    \"\"\"Abstract representation of our model objective.\"\"\" \n",
      "    obj = pyomo.summation(model.c, model.x)\n",
      "    return obj\n",
      "\n",
      "# add the objective function to the model object as an attribute (OBJ can be arbitrary!)\n",
      "model.OBJ = pyomo.Objective(rule=objective)\n",
      "\n",
      "def constraints(model, i):\n",
      "    \"\"\"Abstract representation of model constraints.\"\"\"\n",
      "    # return the expression for the constraint for i\n",
      "    return sum(model.a[i,j] * model.x[j] for j in model.J) >= model.b[i]\n",
      "\n",
      "# the next line creates one constraint for each member of the set model.I (CONS can be arbitrary!)\n",
      "model.CONS = pyomo.Constraint(model.I, rule=constraints)"
     ],
     "language": "python",
     "metadata": {},
     "outputs": [
      {
       "output_type": "stream",
       "stream": "stdout",
       "text": [
        "Overwriting abstract.py\n"
       ]
      }
     ],
     "prompt_number": 211
    },
    {
     "cell_type": "markdown",
     "metadata": {},
     "source": [
      "Model as coded so far is completely abstract, in order to use this model data must be given for the values of the parameters.  Consider the following example...\n",
      "\n",
      "$$ \\min\\ 2x_1 + 3x_2 $$\n",
      "\n",
      "subject to generic constraints:\n",
      "\n",
      "\\begin{align}\n",
      "    3x_1 + 4x_2 \\ge& 1 \\\\\n",
      "    x_1, x_2 \\ge& 0\\ \n",
      "\\end{align}\n",
      "\n",
      "We can use AMPL syntax to provide the model data..."
     ]
    },
    {
     "cell_type": "code",
     "collapsed": false,
     "input": [
      "%%writefile example1.dat\n",
      "# one way to input the data in AMPL format\n",
      "# for indexed parameters, the indexes are given before the value\n",
      "param m := 1 ;\n",
      "param n := 2 ;\n",
      "param a :=\n",
      "1 1 3\n",
      "1 2 4\n",
      ";\n",
      "param c:=\n",
      "1 2\n",
      "2 3\n",
      ";\n",
      "param b := 1 1 ;"
     ],
     "language": "python",
     "metadata": {},
     "outputs": [
      {
       "output_type": "stream",
       "stream": "stdout",
       "text": [
        "Overwriting example1.dat\n"
       ]
      }
     ],
     "prompt_number": 212
    },
    {
     "cell_type": "markdown",
     "metadata": {},
     "source": [
      "Solving the model using `glpk`..."
     ]
    },
    {
     "cell_type": "code",
     "collapsed": false,
     "input": [
      "!pyomo abstract.py example1.dat --solver=gurobi --summary"
     ],
     "language": "python",
     "metadata": {},
     "outputs": [
      {
       "output_type": "stream",
       "stream": "stdout",
       "text": [
        "\r\n",
        "    Seems like you are using OpenOpt from \r\n",
        "    commercial Enthought Python Distribution;\r\n",
        "    consider using free GPL-licensed alternatives\r\n",
        "    PythonXY (http://www.pythonxy.com) or\r\n",
        "    Sage (http://sagemath.org) instead.\r\n",
        "    \r\n"
       ]
      },
      {
       "output_type": "stream",
       "stream": "stdout",
       "text": [
        "\r\n",
        "    Seems like you are using OpenOpt from \r\n",
        "    commercial Enthought Python Distribution;\r\n",
        "    consider using free GPL-licensed alternatives\r\n",
        "    PythonXY (http://www.pythonxy.com) or\r\n",
        "    Sage (http://sagemath.org) instead.\r\n",
        "    \r\n"
       ]
      },
      {
       "output_type": "stream",
       "stream": "stdout",
       "text": [
        "[    0.00] Setting up Pyomo environment\r\n",
        "[    0.00] Applying Pyomo preprocessing actions\r\n",
        "[    0.00] Creating model\r\n"
       ]
      },
      {
       "output_type": "stream",
       "stream": "stdout",
       "text": [
        "[    0.05] Applying solver\r\n"
       ]
      },
      {
       "output_type": "stream",
       "stream": "stdout",
       "text": [
        "[    0.16] Processing results\r\n",
        "    Number of solutions: 1\r\n",
        "    Solution Information\r\n",
        "      Gap: 0.0\r\n",
        "      Status: optimal\r\n",
        "      Function Value: 0.666666666667\r\n",
        "    Solver results file: results.yml\r\n",
        "\r\n",
        "==========================================================\r\n",
        "Solution Summary\r\n",
        "==========================================================\r\n",
        "\r\n",
        "Model unknown\r\n",
        "\r\n",
        "  Variables:\r\n",
        "    x : Size=2, Index=J, Domain=NonNegativeReals\r\n",
        "        Key : Lower : Value          : Upper : Initial : Fixed : Stale\r\n",
        "          1 :     0 : 0.333333333333 :  None :    None : False : False\r\n",
        "          2 :     0 :            0.0 :  None :    None : False : False\r\n",
        "\r\n",
        "  Objectives:\r\n",
        "    OBJ : Size=1\r\n",
        "        Key  : Value\r\n",
        "        None : 0.666666666666\r\n",
        "\r\n",
        "  Constraints:\r\n",
        "    CONS : Size=1\r\n",
        "        Key : Lower : Body           : Upper\r\n",
        "          1 :   1.0 : 0.999999999999 :  None\r\n",
        "\r\n",
        "[    0.19] Applying Pyomo postprocessing actions\r\n",
        "[    0.19] Pyomo Finished\r\n"
       ]
      }
     ],
     "prompt_number": 214
    },
    {
     "cell_type": "markdown",
     "metadata": {},
     "source": [
      "Resulting `.yml` file can be parsed as follows..."
     ]
    },
    {
     "cell_type": "code",
     "collapsed": false,
     "input": [
      "stream = open(\"results.yml\", 'r')\n",
      "print yaml.load(stream)"
     ],
     "language": "python",
     "metadata": {},
     "outputs": [
      {
       "output_type": "stream",
       "stream": "stdout",
       "text": [
        "{'Problem': [{'Number of objectives': 1, 'Lower bound': 0.666666666667, 'Name': 'unknown', 'Number of variables': 3, 'Sense': 'minimize', 'Number of constraints': 2, 'Upper bound': 0.666666666667, 'Number of nonzeros': 3}], 'Solution': [{'number of solutions': 1, 'number of solutions displayed': 1}, {'Status': 'feasible', 'Objective': {'OBJ': {'Id': 0, 'Value': 0.666666666667}}, 'Gap': 0.0, 'Variable': {'x[1]': {'Id': 0, 'Value': 0.333333333333}}, 'Constraint': 'No nonzero values'}], 'Solver': [{'Status': 'ok', 'Termination condition': 'optimal', 'Statistics': {'Branch and bound': {'Number of created subproblems': 0, 'Number of bounded subproblems': 0}}, 'Error rc': 0}]}\n"
       ]
      }
     ],
     "prompt_number": 12
    },
    {
     "cell_type": "markdown",
     "metadata": {},
     "source": [
      "Additional examples can be found in the [Pyomo gallery](https://software.sandia.gov/trac/coopr/wiki/Documentation/CooprGallery)."
     ]
    },
    {
     "cell_type": "code",
     "collapsed": false,
     "input": [],
     "language": "python",
     "metadata": {},
     "outputs": []
    }
   ],
   "metadata": {}
  }
 ]
}