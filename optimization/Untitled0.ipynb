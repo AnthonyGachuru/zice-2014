{
 "metadata": {
  "name": ""
 },
 "nbformat": 3,
 "nbformat_minor": 0,
 "worksheets": [
  {
   "cells": [
    {
     "cell_type": "code",
     "collapsed": false,
     "input": [
      "import numpy as np\n",
      "from scipy import optimize\n",
      "import sympy as sp"
     ],
     "language": "python",
     "metadata": {},
     "outputs": [],
     "prompt_number": 65
    },
    {
     "cell_type": "markdown",
     "metadata": {},
     "source": [
      "# Solving life-cycle problems in Python\n",
      "\n",
      "Start with simple, two-period choice model. Objective is to...\n",
      "\n",
      "$$ \\max_{c_0, c_1, l_0, l_1} \\left[\\frac{c_0^{1-\\theta} - 1}{1-\\theta} - \\left(\\frac{l_0^{1+\\eta} - 1}{1+\\eta}\\right)\\right] +\\beta\\left[\\frac{c_1^{1-\\theta} - 1}{1-\\theta} - \\left(\\frac{l_1^{1+\\eta} - 1}{1+\\eta}\\right)\\right] $$\n",
      "\n",
      "...subject to the following constraints:\n",
      "\n",
      "\\begin{align}\n",
      "    c_0 + A_1 \\le& A_0 + w_0l_0 \\\\\n",
      "    c_1 \\le& w_1l_1 + (1 + r)A_1 \\\\\n",
      "    c_0, c_1 \\ge& 0 \\\\\n",
      "    l_0, l_1 \\ge& 0\n",
      "\\end{align}"
     ]
    },
    {
     "cell_type": "code",
     "collapsed": false,
     "input": [
      "# discount factor \n",
      "beta = 0.95\n",
      "\n",
      "# utility parameters\n",
      "theta = 2.5\n",
      "eta = 1.0\n",
      "\n",
      "# prices\n",
      "w0, w1 = 1.0, 1.0\n",
      "r = 0.05\n",
      "\n",
      "# initial assets\n",
      "A0 = 0.0"
     ],
     "language": "python",
     "metadata": {},
     "outputs": [],
     "prompt_number": 18
    },
    {
     "cell_type": "code",
     "collapsed": false,
     "input": [
      "def u(c, l):\n",
      "    \"\"\"Flow utility is a function of consumption and labor supply.\"\"\"\n",
      "    # want to handle log as a special case\n",
      "    if theta == 1.0:\n",
      "        utility_consumption = np.log(c)\n",
      "    else:\n",
      "        utility_consumption = (c**(1 - theta) - 1) / (1 - theta)\n",
      "    \n",
      "    disutility_labor = -l**(1 + eta) / (1 + eta)\n",
      "    \n",
      "    # total utility    \n",
      "    utility = utility_consumption + disutility_labor\n",
      "    \n",
      "    return utility\n",
      "    \n",
      "def lifetime_utility(C, L, A):\n",
      "    \"\"\"Discounted lifetime utility of the household.\"\"\"\n",
      "    obj = u(C[0], L[0]) + beta * u(C[1], L[1])    \n",
      "    return obj"
     ],
     "language": "python",
     "metadata": {},
     "outputs": [],
     "prompt_number": 121
    },
    {
     "cell_type": "markdown",
     "metadata": {},
     "source": [
      "Define budget constraints..."
     ]
    },
    {
     "cell_type": "code",
     "collapsed": false,
     "input": [
      "def budget_constraint_period_0(X):\n",
      "    \"\"\"Flow buget constraint for the household.\"\"\"\n",
      "    # extract the variables\n",
      "    C = X[:2]\n",
      "    L = X[2:]\n",
      "    A = X[4]\n",
      "    \n",
      "    bc = A0 + w0 * L[0] - C[0] - A\n",
      "    return bc\n",
      "\n",
      "def budget_constraint_period_1(X):\n",
      "    \"\"\"Flow buget constraint for the household.\"\"\"\n",
      "    # extract the variables\n",
      "    C = X[:2]\n",
      "    L = X[2:]\n",
      "    A = X[4]\n",
      "    \n",
      "    bc = w1 * L[1] + (1 + r) * A - C[1]\n",
      "    return bc    "
     ],
     "language": "python",
     "metadata": {},
     "outputs": [],
     "prompt_number": 22
    },
    {
     "cell_type": "code",
     "collapsed": false,
     "input": [
      "def objective(X):\n",
      "    \"\"\"Maximizing lifetime utility is the same as minimizing negative lifetime utility!\"\"\"\n",
      "    # extract the variables\n",
      "    C = X[:2]\n",
      "    L = X[2:]\n",
      "    A = X[4]\n",
      "    \n",
      "    return -lifetime_utility(C, L, A)"
     ],
     "language": "python",
     "metadata": {},
     "outputs": [],
     "prompt_number": 116
    },
    {
     "cell_type": "code",
     "collapsed": false,
     "input": [
      "initial_consumption = np.repeat(0.5, 2)\n",
      "initial_labor = np.ones(2)\n",
      "initial_assets = w0 * initial_labor[0] + A0 - initial_consumption[0]\n",
      "initial_guess = np.array([0.5, 0.5, 1.0, 1.0, initial_assets])"
     ],
     "language": "python",
     "metadata": {},
     "outputs": [],
     "prompt_number": 24
    },
    {
     "cell_type": "code",
     "collapsed": false,
     "input": [
      "# confirm that the objective function is working\n",
      "objective(initial_guess)"
     ],
     "language": "python",
     "metadata": {},
     "outputs": [
      {
       "metadata": {},
       "output_type": "pyout",
       "prompt_number": 124,
       "text": [
        "3.3519552621700472"
       ]
      }
     ],
     "prompt_number": 124
    },
    {
     "cell_type": "code",
     "collapsed": false,
     "input": [
      "result = optimize.fmin_slsqp(objective, \n",
      "                             x0=initial_guess,\n",
      "                             eqcons=[budget_constraint_period_0, budget_constraint_period_1],\n",
      "                             bounds=[(1e-3, None), (1e-3, None), (0, None), (0, None), (None, None)],\n",
      "                             iprint=2,\n",
      "                             acc=1e-15,\n",
      "                             epsilon=1.5e-8,\n",
      "                             full_output=True)"
     ],
     "language": "python",
     "metadata": {},
     "outputs": [
      {
       "output_type": "stream",
       "stream": "stdout",
       "text": [
        "  NIT    FC           OBJFUN            GNORM\n",
        "    1     7     3.351955E+00     7.923541E+00\n",
        "    2    15     3.013646E+00     2.722983E+00\n",
        "    3    22     1.473988E+00     2.068029E+00\n",
        "    4    29     1.005068E+00     2.145669E+00\n",
        "    5    36     9.823235E-01     1.924696E+00\n",
        "    6    43     9.756538E-01     1.933069E+00\n",
        "    7    50     9.753370E-01     1.964942E+00\n",
        "    8    57     9.749980E-01     1.950308E+00\n",
        "    9    64     9.749979E-01     1.950568E+00\n",
        "   10    71     9.749979E-01     1.950577E+00\n",
        "   11    78     9.749979E-01     1.950578E+00\n",
        "   12    85     9.749979E-01     1.950578E+00\n",
        "Optimization terminated successfully.    (Exit mode 0)\n",
        "            Current function value: 0.974997863134\n",
        "            Iterations: 12\n",
        "            Function evaluations: 86\n",
        "            Gradient evaluations: 12\n"
       ]
      }
     ],
     "prompt_number": 125
    },
    {
     "cell_type": "code",
     "collapsed": false,
     "input": [
      "result"
     ],
     "language": "python",
     "metadata": {},
     "outputs": [
      {
       "metadata": {},
       "output_type": "pyout",
       "prompt_number": 126,
       "text": [
        "(array([ 1.00048871,  0.99948748,  0.99877923,  1.00128244, -0.00170948]),\n",
        " 0.97499786313422121,\n",
        " 12,\n",
        " 0,\n",
        " 'Optimization terminated successfully.')"
       ]
      }
     ],
     "prompt_number": 126
    },
    {
     "cell_type": "markdown",
     "metadata": {},
     "source": [
      "How much improvement can we get from computing derivatives"
     ]
    },
    {
     "cell_type": "code",
     "collapsed": false,
     "input": [
      "c_0, c_1, l_0, l_1, A_1 = sp.var('c_0, c_1, l_0, l_1, A_1')"
     ],
     "language": "python",
     "metadata": {},
     "outputs": [],
     "prompt_number": 85
    },
    {
     "cell_type": "code",
     "collapsed": false,
     "input": [
      "# symbolic function\n",
      "U = ((((c_0**(1 - theta) - 1) / (1 - theta)) - ((l_0**(1 + eta) - 1) / (1 + eta))) + \n",
      "     beta * (((c_1**(1 - theta) - 1) / (1 - theta)) - ((l_1**(1 + eta) - 1) / (1 + eta))))\n",
      "\n",
      "jacobian = sp.lambdify([c_0, c_1, l_0, l_1, A_1], sp.Matrix([-U]).jacobian([c_0, c_1, l_0, l_1, A_1]),\n",
      "                       modules='numpy')"
     ],
     "language": "python",
     "metadata": {},
     "outputs": [],
     "prompt_number": 115
    },
    {
     "cell_type": "code",
     "collapsed": false,
     "input": [
      "def evaluate_jacobian(X):\n",
      "    \"\"\"Jacobian of the objective function.\"\"\"\n",
      "    eval_jac = np.array(jacobian(*X))\n",
      "    return eval_jac.flatten()"
     ],
     "language": "python",
     "metadata": {},
     "outputs": [],
     "prompt_number": 110
    },
    {
     "cell_type": "code",
     "collapsed": false,
     "input": [
      "evaluate_jacobian(initial_guess)"
     ],
     "language": "python",
     "metadata": {},
     "outputs": [
      {
       "metadata": {},
       "output_type": "pyout",
       "prompt_number": 111,
       "text": [
        "array([-5.65685425, -5.37401154,  1.        ,  0.95      ,  0.        ])"
       ]
      }
     ],
     "prompt_number": 111
    },
    {
     "cell_type": "code",
     "collapsed": false,
     "input": [
      "result = optimize.fmin_slsqp(objective, \n",
      "                             x0=initial_guess,\n",
      "                             fprime=evaluate_jacobian,\n",
      "                             eqcons=[budget_constraint_period_0, budget_constraint_period_1],\n",
      "                             bounds=[(1e-3, None), (1e-3, None), (0, None), (0, None), (None, None)],\n",
      "                             iprint=2,\n",
      "                             acc=1e-15,\n",
      "                             epsilon=1.5e-8,\n",
      "                             full_output=True)"
     ],
     "language": "python",
     "metadata": {},
     "outputs": [
      {
       "output_type": "stream",
       "stream": "stdout",
       "text": [
        "  NIT    FC           OBJFUN            GNORM\n",
        "    1     1     2.376955E+00     7.923541E+00\n",
        "    2     3     2.038646E+00     2.722983E+00\n",
        "    3     4     4.989883E-01     2.068029E+00\n",
        "    4     5     3.006788E-02     2.145669E+00\n",
        "    5     6     7.323546E-03     1.924696E+00\n",
        "    6     7     6.537693E-04     1.933069E+00\n",
        "    7     8     3.370060E-04     1.964942E+00\n",
        "    8     9    -1.964448E-06     1.950308E+00\n",
        "    9    10    -2.136531E-06     1.950568E+00\n",
        "   10    11    -2.136835E-06     1.950577E+00\n",
        "   11    12    -2.136865E-06     1.950578E+00\n",
        "   12    13    -2.136866E-06     1.950578E+00\n",
        "   13    14    -2.136866E-06     1.950577E+00\n",
        "Optimization terminated successfully.    (Exit mode 0)\n",
        "            Current function value: -2.13686577882e-06\n",
        "            Iterations: 13\n",
        "            Function evaluations: 14\n",
        "            Gradient evaluations: 13\n"
       ]
      }
     ],
     "prompt_number": 117
    },
    {
     "cell_type": "markdown",
     "metadata": {},
     "source": [
      "Obtain the same result, but with fewer number of function calls. Since we can compute derivatives symbolically we should always compute the Jacobian and/or hessian of our objective function."
     ]
    },
    {
     "cell_type": "code",
     "collapsed": false,
     "input": [
      "result"
     ],
     "language": "python",
     "metadata": {},
     "outputs": [
      {
       "metadata": {},
       "output_type": "pyout",
       "prompt_number": 118,
       "text": [
        "(array([ 1.00048872,  0.99948748,  0.99877924,  1.00128244, -0.00170948]),\n",
        " -2.1368657788214864e-06,\n",
        " 13,\n",
        " 0,\n",
        " 'Optimization terminated successfully.')"
       ]
      }
     ],
     "prompt_number": 118
    },
    {
     "cell_type": "code",
     "collapsed": false,
     "input": [
      "sp.hessian(U, [c_0, c_1, l_0, l_1]"
     ],
     "language": "python",
     "metadata": {},
     "outputs": [
      {
       "metadata": {},
       "output_type": "pyout",
       "prompt_number": 80,
       "text": [
        "Matrix([\n",
        "[-2.5*c_0**(-3.5),                  0,    0,     0],\n",
        "[               0, -2.375*c_1**(-3.5),    0,     0],\n",
        "[               0,                  0, -1.0,     0],\n",
        "[               0,                  0,    0, -0.95]])"
       ]
      }
     ],
     "prompt_number": 80
    },
    {
     "cell_type": "code",
     "collapsed": false,
     "input": [],
     "language": "python",
     "metadata": {},
     "outputs": []
    }
   ],
   "metadata": {}
  }
 ]
}