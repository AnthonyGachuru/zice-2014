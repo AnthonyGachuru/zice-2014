{
 "metadata": {
  "name": ""
 },
 "nbformat": 3,
 "nbformat_minor": 0,
 "worksheets": [
  {
   "cells": [
    {
     "cell_type": "code",
     "collapsed": false,
     "input": [
      "import numpy as np\n",
      "import matplotlib.pyplot as plt\n",
      "import pandas as pd"
     ],
     "language": "python",
     "metadata": {},
     "outputs": [],
     "prompt_number": 1
    },
    {
     "cell_type": "markdown",
     "metadata": {},
     "source": [
      "## Using AMPL and KNITRO on your laptop from within Python\n",
      "Pass the AMPL model file to KNITRO via the terminal..."
     ]
    },
    {
     "cell_type": "code",
     "collapsed": false,
     "input": [
      "!ampl lifcyclab.mod"
     ],
     "language": "python",
     "metadata": {},
     "outputs": [
      {
       "output_type": "stream",
       "stream": "stdout",
       "text": [
        "KNITRO 9.0.0: feastol=1.0e-10\r\n",
        "opttol=1.0e-10\r\n",
        "maxit=10000\r\n",
        "outlev=0\r\n"
       ]
      },
      {
       "output_type": "stream",
       "stream": "stdout",
       "text": [
        "KNITRO 9.0.0: Locally optimal solution.\r\n",
        "objective -60.70473376; feasibility error 1.78e-15\r\n",
        "18 iterations; 19 function evaluations\r\n",
        "beta = 0.95\r\n",
        "T = 60\r\n",
        "R = 48\r\n",
        "Smin = -10\r\n",
        "r = 0.08\r\n",
        "\r\n"
       ]
      }
     ],
     "prompt_number": 4
    },
    {
     "cell_type": "markdown",
     "metadata": {},
     "source": [
      "... and retrieve the results using [Pandas](http://pandas.pydata.org/) library!"
     ]
    },
    {
     "cell_type": "code",
     "collapsed": false,
     "input": [
      "# AMPL output file is REALLY poorly formated!\n",
      "lifcyclab_results = pd.read_csv('lifcyclab.out', delim_whitespace=True, usecols=[1,2,3,4], na_values='.')"
     ],
     "language": "python",
     "metadata": {},
     "outputs": [],
     "prompt_number": 5
    },
    {
     "cell_type": "code",
     "collapsed": false,
     "input": [
      "# display the first five rows...\n",
      "lifcyclab_results.head()"
     ],
     "language": "python",
     "metadata": {},
     "outputs": [
      {
       "html": [
        "<div style=\"max-height:1000px;max-width:1500px;overflow:auto;\">\n",
        "<table border=\"1\" class=\"dataframe\">\n",
        "  <thead>\n",
        "    <tr style=\"text-align: right;\">\n",
        "      <th></th>\n",
        "      <th>w</th>\n",
        "      <th>c</th>\n",
        "      <th>L</th>\n",
        "      <th>S</th>\n",
        "    </tr>\n",
        "  </thead>\n",
        "  <tbody>\n",
        "    <tr>\n",
        "      <th>0</th>\n",
        "      <td> 0.020833</td>\n",
        "      <td> 0.367646</td>\n",
        "      <td> 0.154134</td>\n",
        "      <td>-0.364435</td>\n",
        "    </tr>\n",
        "    <tr>\n",
        "      <th>1</th>\n",
        "      <td> 0.041667</td>\n",
        "      <td> 0.372395</td>\n",
        "      <td> 0.300456</td>\n",
        "      <td>-0.753466</td>\n",
        "    </tr>\n",
        "    <tr>\n",
        "      <th>2</th>\n",
        "      <td> 0.062500</td>\n",
        "      <td> 0.377205</td>\n",
        "      <td> 0.439264</td>\n",
        "      <td>-1.163490</td>\n",
        "    </tr>\n",
        "    <tr>\n",
        "      <th>3</th>\n",
        "      <td> 0.083333</td>\n",
        "      <td> 0.382077</td>\n",
        "      <td> 0.570843</td>\n",
        "      <td>-1.591080</td>\n",
        "    </tr>\n",
        "    <tr>\n",
        "      <th>4</th>\n",
        "      <td> 0.104167</td>\n",
        "      <td> 0.387012</td>\n",
        "      <td> 0.695471</td>\n",
        "      <td>-2.032930</td>\n",
        "    </tr>\n",
        "  </tbody>\n",
        "</table>\n",
        "</div>"
       ],
       "metadata": {},
       "output_type": "pyout",
       "prompt_number": 6,
       "text": [
        "          w         c         L         S\n",
        "0  0.020833  0.367646  0.154134 -0.364435\n",
        "1  0.041667  0.372395  0.300456 -0.753466\n",
        "2  0.062500  0.377205  0.439264 -1.163490\n",
        "3  0.083333  0.382077  0.570843 -1.591080\n",
        "4  0.104167  0.387012  0.695471 -2.032930"
       ]
      }
     ],
     "prompt_number": 6
    },
    {
     "cell_type": "code",
     "collapsed": false,
     "input": [
      "# ...and the last 5 rows\n",
      "lifcyclab_results.tail()"
     ],
     "language": "python",
     "metadata": {},
     "outputs": [
      {
       "html": [
        "<div style=\"max-height:1000px;max-width:1500px;overflow:auto;\">\n",
        "<table border=\"1\" class=\"dataframe\">\n",
        "  <thead>\n",
        "    <tr style=\"text-align: right;\">\n",
        "      <th></th>\n",
        "      <th>w</th>\n",
        "      <th>c</th>\n",
        "      <th>L</th>\n",
        "      <th>S</th>\n",
        "    </tr>\n",
        "  </thead>\n",
        "  <tbody>\n",
        "    <tr>\n",
        "      <th>57</th>\n",
        "      <td> 0.166667</td>\n",
        "      <td> 0.782076</td>\n",
        "      <td> 0.272490</td>\n",
        "      <td> 1.411190</td>\n",
        "    </tr>\n",
        "    <tr>\n",
        "      <th>58</th>\n",
        "      <td> 0.083333</td>\n",
        "      <td> 0.792178</td>\n",
        "      <td> 0.132792</td>\n",
        "      <td> 0.742972</td>\n",
        "    </tr>\n",
        "    <tr>\n",
        "      <th>59</th>\n",
        "      <td> 0.000000</td>\n",
        "      <td> 0.802410</td>\n",
        "      <td> 0.000033</td>\n",
        "      <td>      NaN</td>\n",
        "    </tr>\n",
        "    <tr>\n",
        "      <th>60</th>\n",
        "      <td>      NaN</td>\n",
        "      <td>      NaN</td>\n",
        "      <td>      NaN</td>\n",
        "      <td>      NaN</td>\n",
        "    </tr>\n",
        "    <tr>\n",
        "      <th>61</th>\n",
        "      <td>      NaN</td>\n",
        "      <td>      NaN</td>\n",
        "      <td>      NaN</td>\n",
        "      <td>      NaN</td>\n",
        "    </tr>\n",
        "  </tbody>\n",
        "</table>\n",
        "</div>"
       ],
       "metadata": {},
       "output_type": "pyout",
       "prompt_number": 7,
       "text": [
        "           w         c         L         S\n",
        "57  0.166667  0.782076  0.272490  1.411190\n",
        "58  0.083333  0.792178  0.132792  0.742972\n",
        "59  0.000000  0.802410  0.000033       NaN\n",
        "60       NaN       NaN       NaN       NaN\n",
        "61       NaN       NaN       NaN       NaN"
       ]
      }
     ],
     "prompt_number": 7
    },
    {
     "cell_type": "markdown",
     "metadata": {},
     "source": [
      "Plot the paths wage profile as well as the time paths for the labor supply, consumption, and savings... "
     ]
    },
    {
     "cell_type": "code",
     "collapsed": false,
     "input": [
      "fig, axes = plt.subplots(nrows=1, ncols=2, figsize=(8,6))\n",
      "\n",
      "# plot the data\n",
      "lifcyclab_results['w'].plot(ax=axes[0], label='wages', color='b')\n",
      "lifcyclab_results['L'].plot(ax=axes[0], label='labor supply', color='r')\n",
      "\n",
      "# add axis labels, title, legend, etc\n",
      "axes[0].set_xlabel('Time period, $t$', fontsize=15, family='serif')\n",
      "axes[0].legend(loc=0, frameon=False)\n",
      "\n",
      "lifcyclab_results['c'].plot(ax=axes[1], label='consumption')\n",
      "lifcyclab_results['S'].plot(ax=axes[1], label='savings')\n",
      "\n",
      "# add axis labels, title, legend, etc\n",
      "axes[1].set_xlabel('Time period, $t$', fontsize=15, family='serif')\n",
      "fig.suptitle(x=0.5, y=0.95, t='Life-cycle consumption savings profile', \n",
      "             fontsize=20, family='serif')\n",
      "\n",
      "axes[1].legend(loc=0, frameon=False)\n",
      "\n",
      "plt.show()"
     ],
     "language": "python",
     "metadata": {},
     "outputs": [
      {
       "metadata": {},
       "output_type": "display_data",
       "png": "[encoded data removed]",
       "text": [
        "<matplotlib.figure.Figure at 0x90b5b70>"
       ]
      }
     ],
     "prompt_number": 8
    },
    {
     "cell_type": "markdown",
     "metadata": {},
     "source": [
      "Passing AMPL model file directly to NEOS and retrieving the output from `stdout` [PyNEOS](http://www.gerad.ca/~orban/pyneos/). Need to modify the PyNEOS script so that it dumps output into a file!"
     ]
    },
    {
     "cell_type": "code",
     "collapsed": false,
     "input": [
      "# view a list of available solvers\n",
      "%run pyneos.py --solvers-list"
     ],
     "language": "python",
     "metadata": {},
     "outputs": [
      {
       "output_type": "stream",
       "stream": "stdout",
       "text": [
        "Second Order Conic Programming (socp)\n",
        "  []\n",
        "\n",
        "Semi-infinite Optimization (sio)\n",
        "  ['nsips']\n",
        "\n",
        "Stochastic Linear Programming (slp)\n",
        "  []\n",
        "\n",
        "Bound Constrained Optimization (bco)\n",
        "  ['L-BFGS-B']\n",
        "\n",
        "Global Optimization (go)\n",
        "  ['ASA', 'icos', 'PGAPack', 'PSwarm', 'scip']\n",
        "\n",
        "Mixed-Integer Optimal Control Problems (miocp)\n",
        "  ['MUSCOD-II']\n",
        "\n",
        "Linear Programming (lp)\n",
        "  ['bpmpd', 'Gurobi', 'MOSEK', 'OOQP', 'XpressMP']\n",
        "\n",
        "Model Analyzers (ma)\n",
        "  []\n",
        "\n",
        "Linear Network Programming (lno)\n",
        "  ['MOSEK']\n",
        "\n",
        "Nondifferentiable Optimization (ndo)\n",
        "  ['condor']\n",
        "\n",
        "Nonlinearly Constrained Optimization (nco)\n",
        "  ['CONOPT', 'filter', 'Ipopt', 'KNITRO', 'LANCELOT', 'LOQO', 'MINOS', 'MOSEK', 'SNOPT']\n",
        "\n",
        "test (test)\n",
        "  []\n",
        "\n",
        "Mixed Integer Linear Programming (milp)\n",
        "  ['Cbc', 'feaspump', 'Gurobi', 'MINTO', 'qsopt_ex', 'scip', 'XpressMP']\n",
        "\n",
        "Complementarity Problems (cp)\n",
        "  ['filterMPEC', 'KNITRO', 'PATH']\n",
        "\n",
        "Multi-Solvers (MULTI)\n",
        "  []\n",
        "\n",
        "Unconstrained Optimization (uco)\n",
        "  []\n",
        "\n",
        "Combinatorial Optimization and Integer Programming (co)\n",
        "  []\n",
        "\n",
        "kestrel (kestrel)\n",
        "  ['Bonmin', 'Cbc', 'CONOPT', 'COUENNE', 'FilMINT', 'filter', 'Ipopt', 'KNITRO', 'L-BFGS-B', 'LANCELOT', 'LOQO', 'MINLP', 'MINOS', 'MINTO', 'MOSEK', 'OOQP', 'SNOPT']\n",
        "\n",
        "Mixed Integer Nonlinearly Constrained Optimization (minco)\n",
        "  ['Bonmin', 'Couenne', 'FilMINT', 'KNITRO', 'MINLP', 'scip']\n",
        "\n",
        "Semidefinite Programming (sdp)\n",
        "  []\n",
        "\n"
       ]
      },
      {
       "output_type": "stream",
       "stream": "stderr",
       "text": [
        " Version : neos version 5 (Madison)\n"
       ]
      }
     ],
     "prompt_number": 13
    },
    {
     "cell_type": "code",
     "collapsed": false,
     "input": [
      "%run pyneos.py --model lifcyclab.mod --category nco --solver conopt --comment 'A simple life-cycle savings model.'"
     ],
     "language": "python",
     "metadata": {},
     "outputs": [
      {
       "output_type": "stream",
       "stream": "stdout",
       "text": [
        " modfile =  lifcyclab.mod\n",
        " datfile =  None\n",
        " comfile =  None\n",
        " solver  =  conopt\n",
        " categ   =  nco\n",
        " comment =  A simple life-cycle savings model.\n",
        "Job 2626975 sent to neos-2.neos-server.org\n",
        "password: eiTGCxAr\n",
        "---------- Begin Solver Output -----------\n",
        "Executing /opt/neos/Drivers/conopt-ampl/conopt-ampl-driver.py at time: 2014-01-30 02:14:38.744245\n",
        "File exists\n",
        "You are using the solver conopt.\n",
        "\n",
        "%% YOUR COMMENTS %%%%%%%%%%%%%%%%%%%%%%%\n",
        "\n",
        "A simple life-cycle savings model.\n",
        "\n",
        "%%%%%%%%%%%%%%%%%%%%%%%%%%%%%%%%%%%%%%%%\n",
        "Executing AMPL.\n",
        "processing data.\n",
        "processing commands.\n",
        "\n",
        "Substitution eliminates 60 variables.\n",
        "Adjusted problem:\n",
        "179 variables:\n",
        "\t120 nonlinear variables\n",
        "\t59 linear variables\n",
        "60 constraints, all linear; 237 nonzeros\n",
        "\t60 equality constraints\n",
        "1 nonlinear objective; 120 nonzeros.\n",
        "\n",
        "CONOPT 3.15C: Locally optimal; objective -60.70473376\n",
        "115 iterations; evals: nf = 435, ng = 134, nc = 462, nJ = 0, nH = 40, nHv = 193\n",
        "beta = 0.95\n",
        "T = 60\n",
        "R = 48\n",
        "Smin = -10\n",
        "r = 0.08\n",
        "\n",
        ":        w          c          L           S         :=\n",
        "1    0.0208333   0.367646   0.154134    -0.364435\n",
        "2    0.0416667   0.372395   0.300456    -0.753466\n",
        "3    0.0625      0.377205   0.439264    -1.16349\n",
        "4    0.0833333   0.382077   0.570843    -1.59108\n",
        "5    0.104167    0.387012   0.695471    -2.03293\n",
        "6    0.125       0.392011   0.813417    -2.4859\n",
        "7    0.145833    0.397075   0.924938    -2.94696\n",
        "8    0.166667    0.402204   1.03028     -3.41321\n",
        "9    0.1875      0.407399   1.1297      -3.88185\n",
        "10   0.208333    0.412661   1.22341     -4.35018\n",
        "11   0.229167    0.417991   1.31165     -4.8156\n",
        "12   0.25        0.42339    1.39463     -5.27558\n",
        "13   0.270833    0.428859   1.47256     -5.72766\n",
        "14   0.291667    0.434398   1.54565     -6.16946\n",
        "15   0.3125      0.440009   1.61409     -6.59862\n",
        "16   0.333333    0.445692   1.67806     -7.01285\n",
        "17   0.354167    0.451449   1.73776     -7.40987\n",
        "18   0.375       0.45728    1.79335     -7.78744\n",
        "19   0.395833    0.463187   1.84501     -8.1433\n",
        "20   0.416667    0.46917    1.8929      -8.47522\n",
        "21   0.4375      0.47523    1.93718     -8.78095\n",
        "22   0.458333    0.481368   1.978       -9.05821\n",
        "23   0.479167    0.487586   2.01551     -9.30469\n",
        "24   0.5         0.493884   2.04984     -9.51803\n",
        "25   0.520833    0.500263   2.08114     -9.69581\n",
        "26   0.541667    0.506725   2.10954     -9.83553\n",
        "27   0.5625      0.51327    2.13516     -9.93461\n",
        "28   0.583333    0.5199     2.15813     -9.99037\n",
        "29   0.604167    0.526615   2.17856    -10\n",
        "30   0.625       0.539932   2.14389    -10\n",
        "31   0.645833    0.553044   2.11155     -9.98933\n",
        "32   0.666667    0.560187   2.12443     -9.93238\n",
        "33   0.6875      0.567423   2.1353      -9.82638\n",
        "34   0.708333    0.574752   2.14425     -9.66839\n",
        "35   0.729167    0.582176   2.15139     -9.45532\n",
        "36   0.75        0.589696   2.15678     -9.18386\n",
        "37   0.770833    0.597313   2.16051     -8.85049\n",
        "38   0.791667    0.605028   2.16268     -8.45143\n",
        "39   0.8125      0.612843   2.16334     -7.98268\n",
        "40   0.833333    0.620759   2.16259     -7.43989\n",
        "41   0.854167    0.628777   2.16048     -6.81845\n",
        "42   0.875       0.636898   2.15709     -6.11338\n",
        "43   0.895833    0.645125   2.15248     -5.3193\n",
        "44   0.916667    0.653458   2.14673     -4.43047\n",
        "45   0.9375      0.661898   2.13988     -3.44067\n",
        "46   0.958333    0.670448   2.132       -2.34321\n",
        "47   0.979167    0.679107   2.12315     -1.13086\n",
        "48   1           0.687879   2.11337      0.204161\n",
        "49   0.916667    0.696764   1.88816      1.25455\n",
        "50   0.833333    0.705764   1.67301      2.04333\n",
        "51   0.75        0.71488    1.46756      2.59258\n",
        "52   0.666667    0.724114   1.27144      2.9235\n",
        "53   0.583333    0.733467   1.08432      3.05643\n",
        "54   0.5         0.742941   0.905861     3.01093\n",
        "55   0.416667    0.752537   0.735754     2.80583\n",
        "56   0.333333    0.762257   0.573688     2.45927\n",
        "57   0.25        0.772103   0.419362     1.98875\n",
        "58   0.166667    0.782076   0.27249      1.41119\n",
        "59   0.0833333   0.792178   0.132792     0.742972\n",
        "60   0           0.80241    0               .\n",
        ";\n",
        "\n",
        "CONOPT 3.15C: Locally optimal; objective -60.70473376\n",
        "4 iterations; evals: nf = 2, ng = 4, nc = 1, nJ = 0, nH = 0, nHv = 0\n"
       ]
      },
      {
       "output_type": "stream",
       "stream": "stderr",
       "text": [
        " Version : neos version 5 (Madison)\n",
        "It would be good usage to have model and data\n",
        "in two different files. I will forward your model\n",
        "to the server as-is anyways...\n"
       ]
      }
     ],
     "prompt_number": 12
    },
    {
     "cell_type": "code",
     "collapsed": false,
     "input": [
      "# load the results using Pandas\n",
      "lifcyclab_results = pd.read_csv('lifcyclab.out', delim_whitespace=True, usecols=[1,2,3,4], na_values='.')"
     ],
     "language": "python",
     "metadata": {},
     "outputs": [],
     "prompt_number": 36
    },
    {
     "cell_type": "code",
     "collapsed": false,
     "input": [
      "fig, axes = plt.subplots(nrows=1, ncols=2, figsize=(8,6))\n",
      "\n",
      "# plot the data\n",
      "lifcyclab_results['w'].plot(ax=axes[0], label='wages', color='b')\n",
      "lifcyclab_results['L'].plot(ax=axes[0], label='labor supply', color='r')\n",
      "\n",
      "# add axis labels, title, legend, etc\n",
      "axes[0].set_xlabel('Time period, $t$', fontsize=15, family='serif')\n",
      "axes[0].legend(loc=0, frameon=False)\n",
      "\n",
      "lifcyclab_results['c'].plot(ax=axes[1], label='consumption')\n",
      "lifcyclab_results['S'].plot(ax=axes[1], label='savings')\n",
      "\n",
      "# add axis labels, title, legend, etc\n",
      "axes[1].set_xlabel('Time period, $t$', fontsize=15, family='serif')\n",
      "fig.suptitle(x=0.5, y=0.95, t='Life-cycle consumption savings profile', \n",
      "             fontsize=20, family='serif')\n",
      "\n",
      "axes[1].legend(loc=0, frameon=False)\n",
      "\n",
      "plt.show()"
     ],
     "language": "python",
     "metadata": {},
     "outputs": [
      {
       "metadata": {},
       "output_type": "display_data",
       "png": "[encoded data removed]",
       "text": [
        "<matplotlib.figure.Figure at 0x98176b0>"
       ]
      }
     ],
     "prompt_number": 37
    },
    {
     "cell_type": "markdown",
     "metadata": {},
     "source": [
      "## Life-cycle savings homework\n",
      "\n",
      "Adding various taxes to the basic framework. Start by solving problem using AMPL and KNITRO installed locally..."
     ]
    },
    {
     "cell_type": "code",
     "collapsed": false,
     "input": [
      "!ampl life_cycle_HW.mod"
     ],
     "language": "python",
     "metadata": {},
     "outputs": [
      {
       "output_type": "stream",
       "stream": "stdout",
       "text": [
        "KNITRO 9.0.0: KNITRO: Number of threads = 1\r\n",
        "\r\n",
        "======================================\r\n",
        "       Commercial Ziena License\r\n",
        "             KNITRO 9.0.0\r\n",
        "          Ziena Optimization\r\n",
        "======================================\r\n",
        "\r\n",
        "KNITRO presolve eliminated 0 variables and 0 constraints.\r\n",
        "\r\n",
        "hessian_no_f:         1\r\n",
        "par_concurrent_evals: 0\r\n",
        "KNITRO changing bar_switchrule from AUTO to 2.\r\n",
        "KNITRO changing algorithm from AUTO to 1.\r\n",
        "KNITRO changing bar_murule from AUTO to 4.\r\n",
        "KNITRO changing bar_initpt from AUTO to 3.\r\n",
        "KNITRO changing bar_penaltyrule from AUTO to 2.\r\n",
        "KNITRO changing bar_penaltycons from AUTO to 1.\r\n",
        "KNITRO changing linsolver from AUTO to 2.\r\n",
        "KNITRO shifted start point to satisfy presolved bounds (86 variables).\r\n",
        "\r\n",
        "Problem Characteristics\r\n",
        "-----------------------\r\n",
        "Objective goal:  Maximize\r\n",
        "Number of variables:                   299\r\n",
        "    bounded below:                     299\r\n",
        "    bounded above:                       0\r\n",
        "    bounded below and above:             0\r\n",
        "    fixed:                               0\r\n",
        "    free:                                0\r\n",
        "Number of constraints:                 100\r\n",
        "    linear equalities:                 100\r\n",
        "    nonlinear equalities:                0\r\n",
        "    linear inequalities:                 0\r\n",
        "    nonlinear inequalities:              0\r\n",
        "    range:                               0\r\n",
        "Number of nonzeros in Jacobian:        397\r\n",
        "Number of nonzeros in Hessian:         200\r\n",
        "\r\n",
        "  Iter      Objective      FeasError   OptError    ||Step||    CGits \r\n",
        "--------  --------------  ----------  ----------  ----------  -------\r\n",
        "       0   -4.505122e+01   1.083e+01\r\n",
        "      10   -8.750396e+01   1.776e-15   2.472e+01   1.495e+00        0\r\n",
        "      20   -8.670320e+01   3.553e-15   2.664e-03   4.417e-01        0\r\n",
        "      22   -8.670308e+01   3.553e-15   1.228e-05   4.988e-02        0\r\n",
        "\r\n",
        "EXIT: Locally optimal solution found.\r\n",
        "\r\n",
        "Final Statistics\r\n",
        "----------------\r\n",
        "Final objective value               =  -8.67030829370810e+01\r\n",
        "Final feasibility error (abs / rel) =   3.55e-15 / 3.28e-16\r\n",
        "Final optimality error  (abs / rel) =   1.23e-05 / 8.49e-07\r\n",
        "# of iterations                     =         22 \r\n",
        "# of CG iterations                  =          0 \r\n",
        "# of function evaluations           =         23\r\n",
        "# of gradient evaluations           =         23\r\n",
        "# of Hessian evaluations            =         22\r\n",
        "Total program time (secs)           =       0.02680 (     0.021 CPU time)\r\n",
        "Time spent in evaluations (secs)    =       0.00347\r\n",
        "\r\n",
        "===============================================================================\r\n",
        "\r\n",
        "Locally optimal solution.\r\n",
        "objective -86.70308294; feasibility error 3.55e-15\r\n",
        "22 iterations; 23 function evaluations\r\n"
       ]
      }
     ],
     "prompt_number": 108
    },
    {
     "cell_type": "code",
     "collapsed": false,
     "input": [
      "# load the results using Pandas\n",
      "life_cycle_HW_results = pd.read_csv('life_cycle_HW.out', delim_whitespace=True, \n",
      "                                    usecols=[1,2,3,4], na_values='.')"
     ],
     "language": "python",
     "metadata": {},
     "outputs": [],
     "prompt_number": 109
    },
    {
     "cell_type": "code",
     "collapsed": false,
     "input": [
      "life_cycle_HW_results.head()"
     ],
     "language": "python",
     "metadata": {},
     "outputs": [
      {
       "html": [
        "<div style=\"max-height:1000px;max-width:1500px;overflow:auto;\">\n",
        "<table border=\"1\" class=\"dataframe\">\n",
        "  <thead>\n",
        "    <tr style=\"text-align: right;\">\n",
        "      <th></th>\n",
        "      <th>w</th>\n",
        "      <th>c</th>\n",
        "      <th>l</th>\n",
        "      <th>A</th>\n",
        "    </tr>\n",
        "  </thead>\n",
        "  <tbody>\n",
        "    <tr>\n",
        "      <th>0</th>\n",
        "      <td> 0.015385</td>\n",
        "      <td> 0.336516</td>\n",
        "      <td> 0.193463</td>\n",
        "      <td>-0.384166</td>\n",
        "    </tr>\n",
        "    <tr>\n",
        "      <th>1</th>\n",
        "      <td> 0.030769</td>\n",
        "      <td> 0.339358</td>\n",
        "      <td> 0.378875</td>\n",
        "      <td>-0.792166</td>\n",
        "    </tr>\n",
        "    <tr>\n",
        "      <th>2</th>\n",
        "      <td> 0.046154</td>\n",
        "      <td> 0.342225</td>\n",
        "      <td> 0.556487</td>\n",
        "      <td>-1.220740</td>\n",
        "    </tr>\n",
        "    <tr>\n",
        "      <th>3</th>\n",
        "      <td> 0.061538</td>\n",
        "      <td> 0.345115</td>\n",
        "      <td> 0.726543</td>\n",
        "      <td>-1.666700</td>\n",
        "    </tr>\n",
        "    <tr>\n",
        "      <th>4</th>\n",
        "      <td> 0.076923</td>\n",
        "      <td> 0.348030</td>\n",
        "      <td> 0.889282</td>\n",
        "      <td>-2.126950</td>\n",
        "    </tr>\n",
        "  </tbody>\n",
        "</table>\n",
        "</div>"
       ],
       "metadata": {},
       "output_type": "pyout",
       "prompt_number": 110,
       "text": [
        "          w         c         l         A\n",
        "0  0.015385  0.336516  0.193463 -0.384166\n",
        "1  0.030769  0.339358  0.378875 -0.792166\n",
        "2  0.046154  0.342225  0.556487 -1.220740\n",
        "3  0.061538  0.345115  0.726543 -1.666700\n",
        "4  0.076923  0.348030  0.889282 -2.126950"
       ]
      }
     ],
     "prompt_number": 110
    },
    {
     "cell_type": "code",
     "collapsed": false,
     "input": [
      "fig, axes = plt.subplots(nrows=1, ncols=2, figsize=(8,6))\n",
      "\n",
      "# plot the data\n",
      "life_cycle_HW_results['w'].plot(ax=axes[0], label='wages', color='b')\n",
      "life_cycle_HW_results['l'].plot(ax=axes[0], label='labor supply', color='r')\n",
      "\n",
      "# add axis labels, title, legend, etc\n",
      "axes[0].set_xlabel('Time period, $t$', fontsize=15, family='serif')\n",
      "axes[0].legend(loc=0, frameon=False)\n",
      "\n",
      "life_cycle_HW_results['c'].plot(ax=axes[1], label='consumption')\n",
      "life_cycle_HW_results['A'].plot(ax=axes[1], label='savings')\n",
      "\n",
      "# add axis labels, title, legend, etc\n",
      "axes[1].set_xlabel('Time period, $t$', fontsize=15, family='serif')\n",
      "fig.suptitle(x=0.5, y=0.95, t='Life-cycle profile', fontsize=20, family='serif')\n",
      "\n",
      "axes[1].legend(loc=0, frameon=False)\n",
      "\n",
      "plt.show()"
     ],
     "language": "python",
     "metadata": {},
     "outputs": [
      {
       "metadata": {},
       "output_type": "display_data",
       "png": "[encoded data removed]",
       "text": [
        "<matplotlib.figure.Figure at 0x9c804d0>"
       ]
      }
     ],
     "prompt_number": 111
    },
    {
     "cell_type": "code",
     "collapsed": false,
     "input": [],
     "language": "python",
     "metadata": {},
     "outputs": []
    }
   ],
   "metadata": {}
  }
 ]
}