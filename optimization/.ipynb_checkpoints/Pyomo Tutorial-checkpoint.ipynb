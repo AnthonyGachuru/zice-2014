{
 "metadata": {
  "name": ""
 },
 "nbformat": 3,
 "nbformat_minor": 0,
 "worksheets": [
  {
   "cells": [
    {
     "cell_type": "code",
     "collapsed": false,
     "input": [
      "import math\n",
      "from coopr import pyomo\n",
      "import yaml"
     ],
     "language": "python",
     "metadata": {},
     "outputs": [],
     "prompt_number": 14
    },
    {
     "cell_type": "markdown",
     "metadata": {},
     "source": [
      "The [A COmmon Optimization Python Repository (Coopr)](https://software.sandia.gov/trac/coopr/wiki/Documentation/CooprOverview) library. Coopr is a collection of Python software packages that supports a diverse set of optimization capabilities for formulating and analyzing optimization models. A key driver for Coopr development is [Pyomo](https://software.sandia.gov/trac/coopr/wiki/Pyomo), an open source tool for modeling optimization applications in Python. Pyomo can be used to define symbolic problems, create concrete problem instances, and solve these instances with standard solvers. Thus, Pyomo provides a capability that is commonly associated with algebraic modeling languages like AMPL and GAMS.\n",
      "\n",
      "The Coopr [wiki](https://software.sandia.gov/trac/coopr/wiki) and [blog](https://software.sandia.gov/trac/coopr/blog/) libraries developed by the Sandia National Lab.  More [Coopr documentation](https://software.sandia.gov/trac/coopr/wiki/Documentation)\n",
      "\n",
      "First you will need to install a linear programming solver. A good default is the [GNU Linear Progamming Kit] (`GLPK`)](http://www.gnu.org/software/glpk/). The `GLPK` package includes the following main components:\n",
      "\n",
      "* primal and dual simplex methods\n",
      "* primal-dual interior-point method\n",
      "* branch-and-cut method\n",
      "* translator for GNU MathProg\n",
      "* application program interface (API)\n",
      "* stand-alone LP/MIP solver\n",
      "\n",
      "Installation prodcedure for Mac users is simple:\n",
      "\n",
      "1. install [Homebrew](http://brew.sh/)\n",
      "2. `$ brew tap homebrew/science`\n",
      "3. `$ brew install glpk`\n",
      "\n",
      "If you have an academic email address then you are eligible to obtain and re-newable academic license for a full version of [Gurobi](http://www.gurobi.com/). Requires OSX 10.7 or newer.\n",
      "\n",
      "\n",
      "Simple example of a linear programming problem:\n",
      "\n",
      "$$ \\min\\ \\sum_{j=1}^n c_jx_j $$\n",
      "\n",
      "subject to generic constraints:\n",
      "\n",
      "\\begin{align}\n",
      "    \\sum_{j=1}^n a_{ij}x_j \\ge& b_i \\forall i = 1,\\dots,m \\\\\n",
      "    x_j \\ge& 0\\ \\forall j = 1,\\dots,n\n",
      "\\end{align}\n",
      "\n",
      "The Python script below demonstrates how to define and abstract representation of this model using Pyomo. This code was taken directly from the [getting started with Coopr and Pyomo](https://software.sandia.gov/trac/coopr/downloader/download/file/65/CooprGettingStarted.pdf) tutorial. "
     ]
    },
    {
     "cell_type": "code",
     "collapsed": false,
     "input": [
      "%%writefile abstract.py\n",
      "from __future__ import division\n",
      "from coopr import pyomo\n",
      "\n",
      "# define an abstract model\n",
      "model = pyomo.AbstractModel()\n",
      "\n",
      "# add number of linear constraints as attribute \n",
      "model.m = pyomo.Param(within=pyomo.NonNegativeIntegers)\n",
      "model.n = pyomo.Param(within=pyomo.NonNegativeIntegers)\n",
      "\n",
      "# although not required, it is convenient to define index sets\n",
      "model.I = pyomo.RangeSet(1, model.m)\n",
      "model.J = pyomo.RangeSet(1, model.n)\n",
      "\n",
      "# now we define the coefficients (which are themselves defined over index sets!)\n",
      "model.a = pyomo.Param(model.I, model.J)\n",
      "model.b = pyomo.Param(model.I)\n",
      "model.c = pyomo.Param(model.J)\n",
      "\n",
      "# the next line declares a variable indexed by the set J\n",
      "model.x = pyomo.Var(model.J, domain=pyomo.NonNegativeReals)\n",
      "\n",
      "def objective(model):\n",
      "    \"\"\"Abstract representation of our model objective.\"\"\" \n",
      "    obj = pyomo.summation(model.c, model.x)\n",
      "    return obj\n",
      "\n",
      "# add the objective function to the model object as an attribute (OBJ can be arbitrary!)\n",
      "model.OBJ = pyomo.Objective(rule=objective)\n",
      "\n",
      "def constraints(model, i):\n",
      "    \"\"\"Abstract representation of model constraints.\"\"\"\n",
      "    # return the expression for the constraint for i\n",
      "    return sum(model.a[i,j] * model.x[j] for j in model.J) >= model.b[i]\n",
      "\n",
      "# the next line creates one constraint for each member of the set model.I (CONS can be arbitrary!)\n",
      "model.CONS = pyomo.Constraint(model.I, rule=constraints)"
     ],
     "language": "python",
     "metadata": {},
     "outputs": [
      {
       "output_type": "stream",
       "stream": "stdout",
       "text": [
        "Overwriting abstract.py\n"
       ]
      }
     ],
     "prompt_number": 9
    },
    {
     "cell_type": "markdown",
     "metadata": {},
     "source": [
      "Model as coded so far is completely abstract, in order to use this model data must be given for the values of the parameters.  Consider the following example...\n",
      "\n",
      "$$ \\min\\ 2x_1 + 3x_2 $$\n",
      "\n",
      "subject to generic constraints:\n",
      "\n",
      "\\begin{align}\n",
      "    3x_1 + 4x_2 \\ge& 1 \\\\\n",
      "    x_1, x_2 \\ge& 0\\ \n",
      "\\end{align}\n",
      "\n",
      "We can use AMPL syntax to provide the model data..."
     ]
    },
    {
     "cell_type": "code",
     "collapsed": false,
     "input": [
      "%%writefile example1.dat\n",
      "# one way to input the data in AMPL format\n",
      "# for indexed parameters, the indexes are given before the value\n",
      "param m := 1 ;\n",
      "param n := 2 ;\n",
      "param a :=\n",
      "1 1 3\n",
      "1 2 4\n",
      ";\n",
      "param c:=\n",
      "1 2\n",
      "2 3\n",
      ";\n",
      "param b := 1 1 ;"
     ],
     "language": "python",
     "metadata": {},
     "outputs": [
      {
       "output_type": "stream",
       "stream": "stdout",
       "text": [
        "Overwriting example1.dat\n"
       ]
      }
     ],
     "prompt_number": 7
    },
    {
     "cell_type": "markdown",
     "metadata": {},
     "source": [
      "Solving the model using `glpk`..."
     ]
    },
    {
     "cell_type": "code",
     "collapsed": false,
     "input": [
      "!pyomo abstract.py example1.dat --solver=glpk"
     ],
     "language": "python",
     "metadata": {},
     "outputs": [
      {
       "output_type": "stream",
       "stream": "stdout",
       "text": [
        "\r\n",
        "    Seems like you are using OpenOpt from \r\n",
        "    commercial Enthought Python Distribution;\r\n",
        "    consider using free GPL-licensed alternatives\r\n",
        "    PythonXY (http://www.pythonxy.com) or\r\n",
        "    Sage (http://sagemath.org) instead.\r\n",
        "    \r\n"
       ]
      },
      {
       "output_type": "stream",
       "stream": "stdout",
       "text": [
        "\r\n",
        "    Seems like you are using OpenOpt from \r\n",
        "    commercial Enthought Python Distribution;\r\n",
        "    consider using free GPL-licensed alternatives\r\n",
        "    PythonXY (http://www.pythonxy.com) or\r\n",
        "    Sage (http://sagemath.org) instead.\r\n",
        "    \r\n"
       ]
      },
      {
       "output_type": "stream",
       "stream": "stdout",
       "text": [
        "[    0.00] Setting up Pyomo environment\r\n",
        "[    0.00] Applying Pyomo preprocessing actions\r\n",
        "[    0.00] Creating model\r\n"
       ]
      },
      {
       "output_type": "stream",
       "stream": "stdout",
       "text": [
        "[    0.34] Applying solver\r\n"
       ]
      },
      {
       "output_type": "stream",
       "stream": "stdout",
       "text": [
        "[    0.39] Processing results\r\n",
        "    Number of solutions: 1\r\n",
        "    Solution Information\r\n",
        "      Gap: 0.0\r\n",
        "      Status: feasible\r\n",
        "      Function Value: 0.666666666667\r\n",
        "    Solver results file: results.yml\r\n",
        "[    0.41] Applying Pyomo postprocessing actions\r\n",
        "[    0.41] Pyomo Finished\r\n"
       ]
      }
     ],
     "prompt_number": 10
    },
    {
     "cell_type": "markdown",
     "metadata": {},
     "source": [
      "Resulting `.yml` file can be parsed as follows..."
     ]
    },
    {
     "cell_type": "code",
     "collapsed": false,
     "input": [
      "stream = open(\"results.yml\", 'r')\n",
      "print yaml.load(stream)"
     ],
     "language": "python",
     "metadata": {},
     "outputs": [
      {
       "output_type": "stream",
       "stream": "stdout",
       "text": [
        "{'Problem': [{'Number of objectives': 1, 'Lower bound': 0.666666666667, 'Name': 'unknown', 'Number of variables': 3, 'Sense': 'minimize', 'Number of constraints': 2, 'Upper bound': 0.666666666667, 'Number of nonzeros': 3}], 'Solution': [{'number of solutions': 1, 'number of solutions displayed': 1}, {'Status': 'feasible', 'Objective': {'OBJ': {'Id': 0, 'Value': 0.666666666667}}, 'Gap': 0.0, 'Variable': {'x[1]': {'Id': 0, 'Value': 0.333333333333}}, 'Constraint': 'No nonzero values'}], 'Solver': [{'Status': 'ok', 'Termination condition': 'optimal', 'Statistics': {'Branch and bound': {'Number of created subproblems': 0, 'Number of bounded subproblems': 0}}, 'Error rc': 0}]}\n"
       ]
      }
     ],
     "prompt_number": 12
    },
    {
     "cell_type": "markdown",
     "metadata": {},
     "source": [
      "Additional examples can be found in the [Pyomo gallery](https://software.sandia.gov/trac/coopr/wiki/Documentation/CooprGallery)."
     ]
    },
    {
     "cell_type": "markdown",
     "metadata": {},
     "source": [
      "# Non-linear programming with Pyomo\n",
      "\n",
      "Possibly want to install the [Interior Point Optimizer (`ipopt`)](https://projects.coin-or.org/Ipopt) solver. Installation looks terrible! Possible to try installing via Homebrew? \n",
      "\n",
      "There is also a [NEOS plugin](https://projects.coin-or.org/CoinBazaar/wiki/Projects/CooprNEOSPlugin) for coopr available for download."
     ]
    },
    {
     "cell_type": "code",
     "collapsed": false,
     "input": [
      "%%writefile lifecycle.py\n",
      "from __future__ import division\n",
      "from coopr import pyomo\n",
      "\n",
      "# define an abstract life-cycle savings model\n",
      "model = pyomo.AbstractModel()\n",
      "\n",
      "##### Define model parameters #####\n",
      "\n",
      "# time horizon\n",
      "model.T = pyomo.Param(doc=\"time horizon\", within=pyomo.NonNegativeIntegers)\n",
      "model.periods = pyomo.RangeSet(0, model.T)\n",
      "\n",
      "# retirement age\n",
      "model.R = pyomo.Param(doc=\"retirement age\", within=pyomo.NonNegativeIntegers)\n",
      "\n",
      "# net interest rate\n",
      "model.r = pyomo.Param(doc='interest rate', within=pyomo.NonNegativeReals)\n",
      "\n",
      "# wages\n",
      "def wage_schedule(model, t):\n",
      "    \"\"\"Defines the path of wages. This should really go in the .dat file!\"\"\"\n",
      "    if t < model.R:\n",
      "        wage = t / model.R\n",
      "    else:\n",
      "        wage = 0.0\n",
      "    return wage\n",
      "\n",
      "model.w = pyomo.Param(model.periods, doc='Real wages', within=pyomo.NonNegativeReals,\n",
      "                      initialize=wage_schedule)\n",
      "\n",
      "# define utilty parameters\n",
      "model.beta = pyomo.Param(doc='discount factor', within=pyomo.NonNegativeReals)\n",
      "model.theta = pyomo.Param(doc='inverse of elasticity of substitution for consumption',\n",
      "                          within=pyomo.NonNegativeReals)\n",
      "\n",
      "# define borrowing constraint\n",
      "model.minimum_assets = pyomo.Param(doc='lower bound on assets.')\n",
      "\n",
      "##### Define model variables #####\n",
      "\n",
      "# declare consumption variable\n",
      "def initial_consumption(model, t):\n",
      "    \"\"\"Rule for initial choice of consumption.\"\"\"\n",
      "    return 0.5\n",
      "    \n",
      "model.consumption = pyomo.Var(model.periods, domain=pyomo.PositiveReals, \n",
      "                              initialize=initial_consumption)\n",
      "\n",
      "# declare assets variable\n",
      "def initial_assets(model, t):\n",
      "    \"\"\"\n",
      "    Rule for initializing assets. Ideally this should be feasible given \n",
      "    rules for initializing consumption variable.\n",
      "    \n",
      "    \"\"\"          \n",
      "    return 0.0\n",
      "\n",
      "model.assets = pyomo.Var(pyomo.RangeSet(0, model.T+1), initialize=initial_assets)\n",
      "\n",
      "##### define the objective function #####\n",
      "\n",
      "def flow_utility(model, c):\n",
      "    \"\"\"Flow utility function for the agent.\"\"\"    \n",
      "    # agent likes to eat...\n",
      "    utility_consumption = c**(1 - model.theta) / (1 - model.theta)\n",
      "            \n",
      "    return utility_consumption\n",
      "\n",
      "def lifetime_utility(model):\n",
      "    \"\"\"Abstract representation of our model objective.\"\"\" \n",
      "    # extract variables\n",
      "    c = model.consumption\n",
      "        \n",
      "    # compute utility\n",
      "    U = sum(model.beta**t * flow_utility(model, c[t]) for t in model.periods)\n",
      "    \n",
      "    return U \n",
      "\n",
      "model.lifetime_utility = pyomo.Objective(rule=lifetime_utility, sense=pyomo.maximize)\n",
      "\n",
      "##### Define the model constraints #####\n",
      "\n",
      "def flow_budget_constraints(model, t):\n",
      "    \"\"\"Agent faces a sequence of flow budget constraints\"\"\"\n",
      "    # extract variables\n",
      "    c = model.consumption\n",
      "    A = model.assets\n",
      "    \n",
      "    # extract parameters\n",
      "    r = model.r\n",
      "    w = model.w\n",
      "    \n",
      "    return c[t] + A[t+1] == w[t] + (1 + r) * A[t]\n",
      "    \n",
      "model.budget_constraints = pyomo.Constraint(model.periods, rule=flow_budget_constraints)\n",
      "\n",
      "def borrowing_constraint(model, t):\n",
      "    \"\"\"Agent's assets cannot fall below some minimum amount.\"\"\"\n",
      "    return model.assets[t] >= model.minimum_assets\n",
      "\n",
      "model.borrowing_constraint = pyomo.Constraint(model.periods, rule=borrowing_constraint)\n",
      "\n",
      "def endowment(model):\n",
      "    \"\"\"Agent has some initial assets.\"\"\"\n",
      "    return model.assets[0] == 0.0\n",
      "\n",
      "model.endowment = pyomo.Constraint(rule=endowment)\n",
      "\n",
      "def no_bequests(model):\n",
      "    \"\"\"Agent leaves no bequests.\"\"\"\n",
      "    return model.assets[model.T+1] == 0.0\n",
      "\n",
      "model.no_bequests = pyomo.Constraint(rule=no_bequests)\n"
     ],
     "language": "python",
     "metadata": {},
     "outputs": [
      {
       "output_type": "stream",
       "stream": "stdout",
       "text": [
        "Overwriting lifecycle.py\n"
       ]
      }
     ],
     "prompt_number": 175
    },
    {
     "cell_type": "markdown",
     "metadata": {},
     "source": [
      "Next we need to create a `.dat` file containing the data of a specific instance of our life-cycle model. Currently I am using `AMPL` syntax but am hoping that there will be a better way..."
     ]
    },
    {
     "cell_type": "code",
     "collapsed": false,
     "input": [
      "%%writefile lifecycle.dat\n",
      "\n",
      "# time horizon\n",
      "param T := 100 ;\n",
      "\n",
      "# retirement are\n",
      "param R := 65 ;\n",
      "\n",
      "# discount factor\n",
      "param beta := 0.95 ;\n",
      "    \n",
      "# inverse elasticity of substitution for consumption\n",
      "param theta := 2.0 ;\n",
      "\n",
      "# interest rate \n",
      "param r := 0.05 ;\n",
      "\n",
      "# lower bound on asset holdings\n",
      "param minimum_assets := -5.0 ;"
     ],
     "language": "python",
     "metadata": {},
     "outputs": [
      {
       "output_type": "stream",
       "stream": "stdout",
       "text": [
        "Overwriting lifecycle.dat\n"
       ]
      }
     ],
     "prompt_number": 171
    },
    {
     "cell_type": "markdown",
     "metadata": {},
     "source": [
      "Solve the model using `KNITRO` solver"
     ]
    },
    {
     "cell_type": "code",
     "collapsed": false,
     "input": [
      "!pyomo lifecycle.py lifecycle.dat --solver=knitroampl --stream-output"
     ],
     "language": "python",
     "metadata": {},
     "outputs": [
      {
       "output_type": "stream",
       "stream": "stdout",
       "text": [
        "\r\n",
        "    Seems like you are using OpenOpt from \r\n",
        "    commercial Enthought Python Distribution;\r\n",
        "    consider using free GPL-licensed alternatives\r\n",
        "    PythonXY (http://www.pythonxy.com) or\r\n",
        "    Sage (http://sagemath.org) instead.\r\n",
        "    \r\n"
       ]
      },
      {
       "output_type": "stream",
       "stream": "stdout",
       "text": [
        "\r\n",
        "    Seems like you are using OpenOpt from \r\n",
        "    commercial Enthought Python Distribution;\r\n",
        "    consider using free GPL-licensed alternatives\r\n",
        "    PythonXY (http://www.pythonxy.com) or\r\n",
        "    Sage (http://sagemath.org) instead.\r\n",
        "    \r\n"
       ]
      },
      {
       "output_type": "stream",
       "stream": "stdout",
       "text": [
        "[    0.00] Setting up Pyomo environment\r\n",
        "[    0.00] Applying Pyomo preprocessing actions\r\n",
        "[    0.00] Creating model\r\n"
       ]
      },
      {
       "output_type": "stream",
       "stream": "stdout",
       "text": [
        "[    0.19] Applying solver\r\n"
       ]
      },
      {
       "output_type": "stream",
       "stream": "stdout",
       "text": [
        "KNITRO: Number of threads = 1\r\n",
        "\r\n",
        "======================================\r\n",
        "       Commercial Ziena License\r\n",
        "             KNITRO 9.0.0\r\n",
        "          Ziena Optimization\r\n",
        "======================================\r\n",
        "\r\n",
        "KNITRO presolve eliminated 2 variables and 103 constraints.\r\n",
        "\r\n",
        "hessian_no_f:         1\r\n",
        "par_concurrent_evals: 0\r\n",
        "KNITRO changing bar_switchrule from AUTO to 2.\r\n",
        "KNITRO changing algorithm from AUTO to 1.\r\n",
        "KNITRO changing bar_murule from AUTO to 4.\r\n",
        "KNITRO changing bar_initpt from AUTO to 3.\r\n",
        "KNITRO changing bar_penaltyrule from AUTO to 2.\r\n",
        "KNITRO changing bar_penaltycons from AUTO to 1.\r\n",
        "KNITRO changing linsolver from AUTO to 2.\r\n",
        "KNITRO fixing 2 variables eliminated from the presolve.\r\n",
        "\r\n",
        "Problem Characteristics\r\n",
        "-----------------------\r\n",
        "Objective goal:  Maximize\r\n",
        "Number of variables:                   203\r\n",
        "    bounded below:                     101\r\n",
        "    bounded above:                       0\r\n",
        "    bounded below and above:             0\r\n"
       ]
      },
      {
       "output_type": "stream",
       "stream": "stdout",
       "text": [
        "    fixed:                               0\r\n",
        "    free:                              102\r\n",
        "Number of constraints:                 204\r\n",
        "    linear equalities:                 103\r\n",
        "    nonlinear equalities:                0\r\n",
        "    linear inequalities:               101\r\n",
        "    nonlinear inequalities:              0\r\n",
        "    range:                               0\r\n",
        "Number of nonzeros in Jacobian:        406\r\n",
        "Number of nonzeros in Hessian:         101\r\n",
        "\r\n",
        "  Iter      Objective      FeasError   OptError    ||Step||    CGits \r\n",
        "--------  --------------  ----------  ----------  ----------  -------\r\n"
       ]
      },
      {
       "output_type": "stream",
       "stream": "stdout",
       "text": [
        "       0   -3.977502e+01   5.000e-01\r\n",
        "       8   -7.891094e+01   1.665e-15   3.555e-06   2.178e-02        0\r\n",
        "\r\n",
        "EXIT: Locally optimal solution found.\r\n",
        "\r\n",
        "Final Statistics\r\n",
        "----------------\r\n",
        "Final objective value               =  -7.89109439233177e+01\r\n",
        "Final feasibility error (abs / rel) =   1.67e-15 / 1.67e-15\r\n",
        "Final optimality error  (abs / rel) =   3.55e-06 / 2.17e-07\r\n",
        "# of iterations                     =          8 \r\n",
        "# of CG iterations                  =          0 \r\n",
        "# of function evaluations           =          9\r\n",
        "# of gradient evaluations           =          9\r\n",
        "# of Hessian evaluations            =          8\r\n",
        "Total program time (secs)           =       0.03794 (     0.008 CPU time)\r\n",
        "Time spent in evaluations (secs)    =       0.00056\r\n",
        "\r\n",
        "===============================================================================\r\n",
        "\r\n",
        "KNITRO 9.0.0: Locally optimal solution.\r\n",
        "objective -78.91094392331769; feasibility error 1.67e-15\r\n",
        "8 iterations; 9 function evaluations\r\n"
       ]
      },
      {
       "output_type": "stream",
       "stream": "stdout",
       "text": [
        "[    0.52] Processing results\r\n",
        "    Number of solutions: 1\r\n",
        "    Solution Information\r\n",
        "      Gap: <undefined>\r\n",
        "      Status: optimal\r\n",
        "      Function Value: -78.9109439233\r\n",
        "    Solver results file: results.yml\r\n",
        "[    0.55] Applying Pyomo postprocessing actions\r\n",
        "[    0.55] Pyomo Finished\r\n"
       ]
      }
     ],
     "prompt_number": 176
    },
    {
     "cell_type": "markdown",
     "metadata": {},
     "source": [
      "Generally we will want to do post processing..."
     ]
    },
    {
     "cell_type": "code",
     "collapsed": false,
     "input": [
      "stream = open(\"results.yml\", 'r')\n",
      "lifecycle_results = yaml.load(stream)"
     ],
     "language": "python",
     "metadata": {},
     "outputs": [],
     "prompt_number": 177
    },
    {
     "cell_type": "code",
     "collapsed": false,
     "input": [
      "# initial assets\n",
      "assets = [0.0]\n",
      "\n",
      "consumption = []\n",
      "\n",
      "for t in range(101):\n",
      "    if t > 0:\n",
      "        assets.append(lifecycle_results['Solution'][1]['Variable']['assets[%i]' %t]['Value'])\n",
      "    \n",
      "    consumption.append(lifecycle_results['Solution'][1]['Variable']['consumption[%i]' %t]['Value'])\n",
      " \n",
      "# terminal assets\n",
      "assets.append(0.0)"
     ],
     "language": "python",
     "metadata": {},
     "outputs": [],
     "prompt_number": 191
    },
    {
     "cell_type": "code",
     "collapsed": false,
     "input": [
      "fig, axes = plt.subplots(1, 2, figsize=(12,8))\n",
      "\n",
      "axes[0].plot(range(101), consumption)\n",
      "axes[0].set_xlabel('Periods', fontsize=15, family='serif')\n",
      "axes[0].set_ylabel('Units per period', fontsize=15, family='serif')\n",
      "axes[0].set_title('Consumption (flow!)', fontsize=20, family='serif')\n",
      "axes[0].grid()\n",
      "\n",
      "axes[1].plot(range(102), assets, color='g', label='Assets (stock)')\n",
      "axes[1].set_xlabel('Periods', fontsize=15, family='serif')\n",
      "axes[1].set_ylabel('Total units', fontsize=15, family='serif')\n",
      "axes[1].set_title('Assets (stock!)', fontsize=20, family='serif')\n",
      "axes[1].grid()\n",
      "\n",
      "plt.show()"
     ],
     "language": "python",
     "metadata": {},
     "outputs": [
      {
       "metadata": {},
       "output_type": "display_data",
       "png": "[encoded data removed]",
       "text": [
        "<matplotlib.figure.Figure at 0x9955e50>"
       ]
      }
     ],
     "prompt_number": 192
    },
    {
     "cell_type": "markdown",
     "metadata": {},
     "source": [
      "## Using Pyomo and KNITRO"
     ]
    },
    {
     "cell_type": "code",
     "collapsed": false,
     "input": [],
     "language": "python",
     "metadata": {},
     "outputs": []
    },
    {
     "cell_type": "code",
     "collapsed": false,
     "input": [
      "%%writefile lifecycle.py\n",
      "from __future__ import division\n",
      "from coopr import pyomo\n",
      "\n",
      "# define an abstract life-cycle savings model\n",
      "model = pyomo.AbstractModel()\n",
      "\n",
      "##### Define model parameters #####\n",
      "\n",
      "# define time horizon\n",
      "model.T = pyomo.Param(doc=\"Agent's time horizon\", within=pyomo.NonNegativeIntegers)\n",
      "model.periods = pyomo.RangeSet(0, model.T)\n",
      "\n",
      "# retirement age\n",
      "model.R = pyomo.Param(doc=\"Agent's retirement age\", within=pyomo.NonNegativeIntegers)\n",
      "\n",
      "# define prices\n",
      "model.r = pyomo.Param(doc='Net interest rate', within=pyomo.NonNegativeReals)\n",
      "\n",
      "def wage_schedule(model, t):\n",
      "    \"\"\"Defines the path of wages. This should really go in the .dat file\"\"\"\n",
      "    if t < model.R:\n",
      "        wage = t / model.R\n",
      "    else:\n",
      "        wage = (model.T - t) / (model.T - model.R)\n",
      "    return wage\n",
      "\n",
      "model.w = pyomo.Param(model.periods, doc='Real wages', within=pyomo.NonNegativeReals,\n",
      "                      initialize=wage_schedule)\n",
      "\n",
      "# define utilty parameters\n",
      "model.beta = pyomo.Param(doc='Discount factor', within=pyomo.NonNegativeReals)\n",
      "model.theta = pyomo.Param(doc='Inverse of inter-temporal elasticity of substitution for consumption',\n",
      "                          within=pyomo.NonNegativeReals)\n",
      "model.eta = pyomo.Param(doc='Inverse of inter-temporal elasticity of substitution for labor',\n",
      "                        within=pyomo.NonNegativeReals)\n",
      "\n",
      "# define borrowing constraint\n",
      "model.minimum_assets = pyomo.Param(doc='Lower boundon agent assets.')\n",
      "\n",
      "##### Define model variables #####\n",
      "\n",
      "# declare consumption variable\n",
      "def initial_consumption(model, t):\n",
      "    \"\"\"Rule for initial choice of consumption.\"\"\"\n",
      "    return 0.5\n",
      "\n",
      "model.consumption = pyomo.Var(model.periods, domain=pyomo.PositiveReals, \n",
      "                              initialize=initial_consumption)\n",
      "\n",
      "# declare labor supply variable\n",
      "def initial_labor_supply(model, t):\n",
      "    \"\"\"Rule for initial choice of labor supply.\"\"\"\n",
      "    return 1.0\n",
      "\n",
      "model.labor_supply = pyomo.Var(model.periods, domain=pyomo.PositiveReals, \n",
      "                               initialize=initial_labor_supply)\n",
      "\n",
      "# declare assets variable\n",
      "def initial_assets(model, t):\n",
      "    \"\"\"\n",
      "    Rule for initializing assets. Ideally this should be feasible given \n",
      "    rules for initializing consumption and the labor supply.\n",
      "    \n",
      "    \"\"\"          \n",
      "    return 0.0\n",
      "\n",
      "model.assets = pyomo.Var(pyomo.RangeSet(0, model.T+1), initialize=initial_assets)\n",
      "\n",
      "##### define the objective function #####\n",
      "\n",
      "def flow_utility(model, c, l):\n",
      "    \"\"\"Flow utility function for the agent.\"\"\"    \n",
      "    # agent likes to eat...\n",
      "    utility_consumption = c**(1 - model.theta) / (1 - model.theta)\n",
      "        \n",
      "    # ...but hates working\n",
      "    disutility_labor = -l**(1 + model.eta) / (1 + model.eta)\n",
      "    \n",
      "    total_utility = utility_consumption + disutility_labor\n",
      "    \n",
      "    return total_utility\n",
      "\n",
      "def lifetime_utility(model):\n",
      "    \"\"\"Abstract representation of our model objective.\"\"\" \n",
      "    # extract variables\n",
      "    c = model.consumption\n",
      "    l = model.labor_supply\n",
      "        \n",
      "    # compute utility\n",
      "    U = sum(model.beta**t * flow_utility(model, c[t], l[t]) for t in model.periods)\n",
      "    \n",
      "    return U \n",
      "\n",
      "model.lifetime_utility = pyomo.Objective(rule=lifetime_utility, sense=pyomo.maximize)\n",
      "\n",
      "##### Define the model constraints #####\n",
      "\n",
      "def flow_budget_constraints(model, t):\n",
      "    \"\"\"Agent faces a sequence of flow budget constraints\"\"\"\n",
      "    # extract variables\n",
      "    c = model.consumption\n",
      "    l = model.labor_supply\n",
      "    A = model.assets\n",
      "    \n",
      "    # extract parameters\n",
      "    r = model.r\n",
      "    w = model.w\n",
      "    \n",
      "    return c[t] + A[t+1] == w[t] * l[t] + (1 + r) * A[t]\n",
      "    \n",
      "model.budget_constraints = pyomo.Constraint(model.periods, rule=flow_budget_constraints)\n",
      "\n",
      "def borrowing_constraint(model, t):\n",
      "    \"\"\"Agent's assets cannot fall below some minimum amount.\"\"\"\n",
      "    return model.assets[t] >= model.minimum_assets\n",
      "\n",
      "model.borrowing_constraint = pyomo.Constraint(model.periods, rule=borrowing_constraint)\n",
      "\n",
      "def endowment(model):\n",
      "    \"\"\"Agent has some initial assets.\"\"\"\n",
      "    return model.assets[0] == 0.0\n",
      "\n",
      "model.endowment = pyomo.Constraint(rule=endowment)\n",
      "\n",
      "def no_bequests(model):\n",
      "    \"\"\"Agent leaves no bequests.\"\"\"\n",
      "    return model.assets[model.T+1] == 0.0\n",
      "\n",
      "model.no_bequests = pyomo.Constraint(rule=no_bequests)\n"
     ],
     "language": "python",
     "metadata": {},
     "outputs": [
      {
       "output_type": "stream",
       "stream": "stdout",
       "text": [
        "Overwriting lifecycle.py\n"
       ]
      }
     ],
     "prompt_number": 162
    },
    {
     "cell_type": "code",
     "collapsed": false,
     "input": [
      "%%writefile lifecycle.dat\n",
      "\n",
      "param T := 100 ;\n",
      "param R := 65 ;\n",
      "param beta := 0.95 ;\n",
      "param theta := 2.0 ;\n",
      "param eta := 1.0 ;\n",
      "\n",
      "param r := 0.05 ;\n",
      "\n",
      "param minimum_assets := -5.0 ;"
     ],
     "language": "python",
     "metadata": {},
     "outputs": [
      {
       "output_type": "stream",
       "stream": "stdout",
       "text": [
        "Overwriting lifecycle.dat\n"
       ]
      }
     ],
     "prompt_number": 141
    },
    {
     "cell_type": "code",
     "collapsed": false,
     "input": [],
     "language": "python",
     "metadata": {},
     "outputs": []
    },
    {
     "cell_type": "code",
     "collapsed": false,
     "input": [
      "!pyomo lifecycle.py lifecycle.dat --solver=knitroampl --stream-output"
     ],
     "language": "python",
     "metadata": {},
     "outputs": [
      {
       "output_type": "stream",
       "stream": "stdout",
       "text": [
        "\r\n",
        "    Seems like you are using OpenOpt from \r\n",
        "    commercial Enthought Python Distribution;\r\n",
        "    consider using free GPL-licensed alternatives\r\n",
        "    PythonXY (http://www.pythonxy.com) or\r\n",
        "    Sage (http://sagemath.org) instead.\r\n",
        "    \r\n"
       ]
      },
      {
       "output_type": "stream",
       "stream": "stdout",
       "text": [
        "\r\n",
        "    Seems like you are using OpenOpt from \r\n",
        "    commercial Enthought Python Distribution;\r\n",
        "    consider using free GPL-licensed alternatives\r\n",
        "    PythonXY (http://www.pythonxy.com) or\r\n",
        "    Sage (http://sagemath.org) instead.\r\n",
        "    \r\n"
       ]
      },
      {
       "output_type": "stream",
       "stream": "stdout",
       "text": [
        "[    0.00] Setting up Pyomo environment\r\n",
        "[    0.00] Applying Pyomo preprocessing actions\r\n",
        "[    0.00] Creating model\r\n"
       ]
      },
      {
       "output_type": "stream",
       "stream": "stdout",
       "text": [
        "[    0.10] Applying solver\r\n"
       ]
      },
      {
       "output_type": "stream",
       "stream": "stdout",
       "text": [
        "KNITRO: Number of threads = 1\r\n",
        "\r\n",
        "======================================\r\n",
        "       Commercial Ziena License\r\n",
        "             KNITRO 9.0.0\r\n",
        "          Ziena Optimization\r\n",
        "======================================\r\n",
        "\r\n",
        "KNITRO presolve eliminated 2 variables and 103 constraints.\r\n",
        "\r\n",
        "hessian_no_f:         1\r\n",
        "par_concurrent_evals: 0\r\n",
        "KNITRO changing bar_switchrule from AUTO to 2.\r\n",
        "KNITRO changing algorithm from AUTO to 1.\r\n",
        "KNITRO changing bar_murule from AUTO to 4.\r\n",
        "KNITRO changing bar_initpt from AUTO to 3.\r\n",
        "KNITRO changing bar_penaltyrule from AUTO to 2.\r\n",
        "KNITRO changing bar_penaltycons from AUTO to 1.\r\n",
        "KNITRO changing linsolver from AUTO to 2.\r\n",
        "KNITRO fixing 2 variables eliminated from the presolve.\r\n",
        "\r\n",
        "Problem Characteristics\r\n",
        "-----------------------\r\n",
        "Objective goal:  Maximize\r\n",
        "Number of variables:                   304\r\n",
        "    bounded below:                     202\r\n",
        "    bounded above:                       0\r\n",
        "    bounded below and above:             0\r\n",
        "    fixed:                               0\r\n",
        "    free:                              102\r\n",
        "Number of constraints:                 204\r\n",
        "    linear equalities:                 103\r\n",
        "    nonlinear equalities:                0\r\n",
        "    linear inequalities:               101\r\n",
        "    nonlinear inequalities:              0\r\n",
        "    range:                               0\r\n",
        "Number of nonzeros in Jacobian:        505\r\n",
        "Number of nonzeros in Hessian:         202\r\n",
        "\r\n",
        "  Iter      Objective      FeasError   OptError    ||Step||    CGits \r\n",
        "--------  --------------  ----------  ----------  ----------  -------\r\n",
        "       0   -4.971877e+01   5.000e-01\r\n",
        "       9   -7.030376e+01   1.776e-15   4.271e-07   7.063e-03        0\r\n",
        "\r\n",
        "EXIT: Locally optimal solution found.\r\n",
        "\r\n",
        "Final Statistics\r\n",
        "----------------\r\n",
        "Final objective value               =  -7.03037559287905e+01\r\n",
        "Final feasibility error (abs / rel) =   1.78e-15 / 1.78e-15\r\n",
        "Final optimality error  (abs / rel) =   4.27e-07 / 5.00e-08\r\n",
        "# of iterations                     =          9 \r\n",
        "# of CG iterations                  =          0 \r\n",
        "# of function evaluations           =         10\r\n",
        "# of gradient evaluations           =         10\r\n"
       ]
      },
      {
       "output_type": "stream",
       "stream": "stdout",
       "text": [
        "# of Hessian evaluations            =          9\r\n",
        "Total program time (secs)           =       0.00959 (     0.009 CPU time)\r\n",
        "Time spent in evaluations (secs)    =       0.00079\r\n",
        "\r\n",
        "===============================================================================\r\n",
        "\r\n",
        "KNITRO 9.0.0: Locally optimal solution.\r\n",
        "objective -70.30375592879047; feasibility error 1.78e-15\r\n",
        "9 iterations; 10 function evaluations\r\n",
        "[    0.23] Processing results\r\n",
        "    Number of solutions: 1\r\n",
        "    Solution Information\r\n",
        "      Gap: <undefined>\r\n",
        "      Status: optimal\r\n",
        "      Function Value: -70.3037559288\r\n",
        "    Solver results file: results.yml\r\n",
        "[    0.26] Applying Pyomo postprocessing actions\r\n",
        "[    0.26] Pyomo Finished\r\n"
       ]
      }
     ],
     "prompt_number": 165
    },
    {
     "cell_type": "code",
     "collapsed": false,
     "input": [
      "stream = open(\"results.yml\", 'r')\n",
      "results = yaml.load(stream)"
     ],
     "language": "python",
     "metadata": {},
     "outputs": [],
     "prompt_number": 166
    },
    {
     "cell_type": "code",
     "collapsed": false,
     "input": [
      "stream = open(\"results.yml\", 'r')\n",
      "results = yaml.load(stream)\n",
      "# initial assets\n",
      "assets = [0.0]\n",
      "\n",
      "consumption = []\n",
      "labor_supply = []\n",
      "\n",
      "for t in range(101):\n",
      "    if t > 0:\n",
      "        assets.append(results['Solution'][1]['Variable']['assets[%i]' %t]['Value'])\n",
      "    \n",
      "    consumption.append(results['Solution'][1]['Variable']['consumption[%i]' %t]['Value'])\n",
      "    labor_supply.append(results['Solution'][1]['Variable']['labor_supply[%i]' %t]['Value'])\n",
      " \n",
      "# terminal assets\n",
      "assets.append(0.0)"
     ],
     "language": "python",
     "metadata": {},
     "outputs": [],
     "prompt_number": 168
    },
    {
     "cell_type": "code",
     "collapsed": false,
     "input": [
      "plt.figure(figsize=(8,6))\n",
      "\n",
      "plt.plot(range(101), consumption, label='c')\n",
      "plt.plot(range(101), labor_supply, label='l')\n",
      "plt.plot(range(102), assets, label='A')\n",
      "plt.grid()\n",
      "plt.legend(loc=0, frameon=False, prop={'family':'serif'})\n",
      "plt.show()"
     ],
     "language": "python",
     "metadata": {},
     "outputs": [
      {
       "metadata": {},
       "output_type": "display_data",
       "png": "[encoded data removed]",
       "text": [
        "<matplotlib.figure.Figure at 0x98af3b0>"
       ]
      }
     ],
     "prompt_number": 169
    },
    {
     "cell_type": "code",
     "collapsed": false,
     "input": [],
     "language": "python",
     "metadata": {},
     "outputs": []
    }
   ],
   "metadata": {}
  }
 ]
}