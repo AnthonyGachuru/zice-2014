{
 "metadata": {
  "name": ""
 },
 "nbformat": 3,
 "nbformat_minor": 0,
 "worksheets": [
  {
   "cells": [
    {
     "cell_type": "code",
     "collapsed": false,
     "input": [
      "import math\n",
      "from coopr import pyomo\n",
      "import yaml"
     ],
     "language": "python",
     "metadata": {},
     "outputs": [],
     "prompt_number": 14
    },
    {
     "cell_type": "markdown",
     "metadata": {},
     "source": [
      "The [A COmmon Optimization Python Repository (Coopr)](https://software.sandia.gov/trac/coopr/wiki/Documentation/CooprOverview) library.\n",
      "\n",
      "The [Coopr](https://software.sandia.gov/trac/coopr/wiki) and [Pyomo](https://software.sandia.gov/trac/coopr/wiki/Pyomo) libraries developed by the Sandia National Lab.  More [Coopr documentation](https://software.sandia.gov/trac/coopr/wiki/Documentation)\n",
      "\n",
      "First you will need to install a linear programming solver. A good default is the [GNU Linear Progamming Kit] (`GLPK`)](http://www.gnu.org/software/glpk/). The `GLPK` package includes the following main components:\n",
      "\n",
      "* primal and dual simplex methods\n",
      "* primal-dual interior-point method\n",
      "* branch-and-cut method\n",
      "* translator for GNU MathProg\n",
      "* application program interface (API)\n",
      "* stand-alone LP/MIP solver\n",
      "\n",
      "Installation prodcedure for Mac users is simple:\n",
      "\n",
      "1. install [Homebrew](http://brew.sh/)\n",
      "2. `$ brew install homebrew/science/glpk`\n",
      "\n",
      "If you have an academic email address then you are eligible to obtain and re-newable academic license for a full version of [Gurobi](http://www.gurobi.com/). Requires OSX 10.7 or newer.\n",
      "\n",
      "\n",
      "Simple example of a linear programming problem:\n",
      "\n",
      "$$ \\min\\ \\sum_{j=1}^n c_jx_j $$\n",
      "\n",
      "subject to generic constraints:\n",
      "\n",
      "\\begin{align}\n",
      "    \\sum_{j=1}^n a_{ij}x_j \\ge& b_i \\forall i = 1,\\dots,m \\\\\n",
      "    x_j \\ge& 0\\ \\forall j = 1,\\dots,n\n",
      "\\end{align}\n",
      "\n",
      "The Python script below demonstrates how to define and abstract representation of this model using Pyomo. This code was taken directly from the [getting started with Coopr and Pyomo](https://software.sandia.gov/trac/coopr/downloader/download/file/65/CooprGettingStarted.pdf) tutorial. "
     ]
    },
    {
     "cell_type": "code",
     "collapsed": false,
     "input": [
      "%%writefile abstract.py\n",
      "from __future__ import division\n",
      "from coopr import pyomo\n",
      "\n",
      "# define an abstract model\n",
      "model = pyomo.AbstractModel()\n",
      "\n",
      "# add number of linear constraints as attribute \n",
      "model.m = pyomo.Param(within=pyomo.NonNegativeIntegers)\n",
      "model.n = pyomo.Param(within=pyomo.NonNegativeIntegers)\n",
      "\n",
      "# although not required, it is convenient to define index sets\n",
      "model.I = pyomo.RangeSet(1, model.m)\n",
      "model.J = pyomo.RangeSet(1, model.n)\n",
      "\n",
      "# now we define the coefficients (which are themselves defined over index sets!)\n",
      "model.a = pyomo.Param(model.I, model.J)\n",
      "model.b = pyomo.Param(model.I)\n",
      "model.c = pyomo.Param(model.J)\n",
      "\n",
      "# the next line declares a variable indexed by the set J\n",
      "model.x = pyomo.Var(model.J, domain=pyomo.NonNegativeReals)\n",
      "\n",
      "def objective(model):\n",
      "    \"\"\"Abstract representation of our model objective.\"\"\" \n",
      "    obj = pyomo.summation(model.c, model.x)\n",
      "    return obj\n",
      "\n",
      "# add the objective function to the model object as an attribute (OBJ can be arbitrary!)\n",
      "model.OBJ = pyomo.Objective(rule=objective)\n",
      "\n",
      "def constraints(model, i):\n",
      "    \"\"\"Abstract representation of model constraints.\"\"\"\n",
      "    # return the expression for the constraint for i\n",
      "    return sum(model.a[i,j] * model.x[j] for j in model.J) >= model.b[i]\n",
      "\n",
      "# the next line creates one constraint for each member of the set model.I (CONS can be arbitrary!)\n",
      "model.CONS = pyomo.Constraint(model.I, rule=constraints)"
     ],
     "language": "python",
     "metadata": {},
     "outputs": [
      {
       "output_type": "stream",
       "stream": "stdout",
       "text": [
        "Overwriting abstract.py\n"
       ]
      }
     ],
     "prompt_number": 9
    },
    {
     "cell_type": "markdown",
     "metadata": {},
     "source": [
      "Model as coded so far is completely abstract, in order to use this model data must be given for the values of the parameters.  Consider the following example...\n",
      "\n",
      "$$ \\min\\ 2x_1 + 3x_2 $$\n",
      "\n",
      "subject to generic constraints:\n",
      "\n",
      "\\begin{align}\n",
      "    3x_1 + 4x_2 \\ge& 1 \\\\\n",
      "    x_1, x_2 \\ge& 0\\ \n",
      "\\end{align}\n",
      "\n",
      "We can use AMPL syntax to provide the model data..."
     ]
    },
    {
     "cell_type": "code",
     "collapsed": false,
     "input": [
      "%%writefile example1.dat\n",
      "# one way to input the data in AMPL format\n",
      "# for indexed parameters, the indexes are given before the value\n",
      "param m := 1 ;\n",
      "param n := 2 ;\n",
      "param a :=\n",
      "1 1 3\n",
      "1 2 4\n",
      ";\n",
      "param c:=\n",
      "1 2\n",
      "2 3\n",
      ";\n",
      "param b := 1 1 ;"
     ],
     "language": "python",
     "metadata": {},
     "outputs": [
      {
       "output_type": "stream",
       "stream": "stdout",
       "text": [
        "Overwriting example1.dat\n"
       ]
      }
     ],
     "prompt_number": 7
    },
    {
     "cell_type": "markdown",
     "metadata": {},
     "source": [
      "Solving the model using `glpk`..."
     ]
    },
    {
     "cell_type": "code",
     "collapsed": false,
     "input": [
      "!pyomo abstract.py example1.dat --solver=glpk"
     ],
     "language": "python",
     "metadata": {},
     "outputs": [
      {
       "output_type": "stream",
       "stream": "stdout",
       "text": [
        "\r\n",
        "    Seems like you are using OpenOpt from \r\n",
        "    commercial Enthought Python Distribution;\r\n",
        "    consider using free GPL-licensed alternatives\r\n",
        "    PythonXY (http://www.pythonxy.com) or\r\n",
        "    Sage (http://sagemath.org) instead.\r\n",
        "    \r\n"
       ]
      },
      {
       "output_type": "stream",
       "stream": "stdout",
       "text": [
        "\r\n",
        "    Seems like you are using OpenOpt from \r\n",
        "    commercial Enthought Python Distribution;\r\n",
        "    consider using free GPL-licensed alternatives\r\n",
        "    PythonXY (http://www.pythonxy.com) or\r\n",
        "    Sage (http://sagemath.org) instead.\r\n",
        "    \r\n"
       ]
      },
      {
       "output_type": "stream",
       "stream": "stdout",
       "text": [
        "[    0.00] Setting up Pyomo environment\r\n",
        "[    0.00] Applying Pyomo preprocessing actions\r\n",
        "[    0.00] Creating model\r\n"
       ]
      },
      {
       "output_type": "stream",
       "stream": "stdout",
       "text": [
        "[    0.34] Applying solver\r\n"
       ]
      },
      {
       "output_type": "stream",
       "stream": "stdout",
       "text": [
        "[    0.39] Processing results\r\n",
        "    Number of solutions: 1\r\n",
        "    Solution Information\r\n",
        "      Gap: 0.0\r\n",
        "      Status: feasible\r\n",
        "      Function Value: 0.666666666667\r\n",
        "    Solver results file: results.yml\r\n",
        "[    0.41] Applying Pyomo postprocessing actions\r\n",
        "[    0.41] Pyomo Finished\r\n"
       ]
      }
     ],
     "prompt_number": 10
    },
    {
     "cell_type": "markdown",
     "metadata": {},
     "source": [
      "Resulting `.yml` file can be parsed as follows..."
     ]
    },
    {
     "cell_type": "code",
     "collapsed": false,
     "input": [
      "stream = open(\"results.yml\", 'r')\n",
      "print yaml.load(stream)"
     ],
     "language": "python",
     "metadata": {},
     "outputs": [
      {
       "output_type": "stream",
       "stream": "stdout",
       "text": [
        "{'Problem': [{'Number of objectives': 1, 'Lower bound': 0.666666666667, 'Name': 'unknown', 'Number of variables': 3, 'Sense': 'minimize', 'Number of constraints': 2, 'Upper bound': 0.666666666667, 'Number of nonzeros': 3}], 'Solution': [{'number of solutions': 1, 'number of solutions displayed': 1}, {'Status': 'feasible', 'Objective': {'OBJ': {'Id': 0, 'Value': 0.666666666667}}, 'Gap': 0.0, 'Variable': {'x[1]': {'Id': 0, 'Value': 0.333333333333}}, 'Constraint': 'No nonzero values'}], 'Solver': [{'Status': 'ok', 'Termination condition': 'optimal', 'Statistics': {'Branch and bound': {'Number of created subproblems': 0, 'Number of bounded subproblems': 0}}, 'Error rc': 0}]}\n"
       ]
      }
     ],
     "prompt_number": 12
    },
    {
     "cell_type": "markdown",
     "metadata": {},
     "source": [
      "Additional examples can be found in the [Pyomo gallery](https://software.sandia.gov/trac/coopr/wiki/Documentation/CooprGallery)."
     ]
    },
    {
     "cell_type": "markdown",
     "metadata": {},
     "source": [
      "# Non-linear programming with Pyomo\n",
      "\n",
      "Possibly want to install the [Interior Point Optimizer (`ipopt`)](https://projects.coin-or.org/Ipopt) solver."
     ]
    },
    {
     "cell_type": "markdown",
     "metadata": {},
     "source": [
      "## Using Pyomo and KNITRO"
     ]
    },
    {
     "cell_type": "code",
     "collapsed": false,
     "input": [],
     "language": "python",
     "metadata": {},
     "outputs": []
    },
    {
     "cell_type": "code",
     "collapsed": false,
     "input": [
      "%%writefile lifecycle.py\n",
      "from __future__ import division\n",
      "from coopr import pyomo\n",
      "\n",
      "# define an abstract life-cycle savings model\n",
      "model = pyomo.AbstractModel()\n",
      "\n",
      "##### Define model parameters #####\n",
      "\n",
      "# define time horizon\n",
      "model.T = pyomo.Param(doc=\"Agent's time horizon\", within=pyomo.NonNegativeIntegers)\n",
      "model.periods = pyomo.RangeSet(0, model.T)\n",
      "\n",
      "# retirement age\n",
      "model.R = pyomo.Param(doc=\"Agent's retirement age\", within=pyomo.NonNegativeIntegers)\n",
      "\n",
      "# define prices\n",
      "model.r = pyomo.Param(doc='Net interest rate', within=pyomo.NonNegativeReals)\n",
      "\n",
      "def wage_schedule(model, t):\n",
      "    \"\"\"Defines the path of wages. This should really go in the .dat file\"\"\"\n",
      "    if t < model.R:\n",
      "        wage = t / model.R\n",
      "    else:\n",
      "        wage = (model.T - t) / (model.T - model.R)\n",
      "    return wage\n",
      "\n",
      "model.w = pyomo.Param(model.periods, doc='Real wages', within=pyomo.NonNegativeReals,\n",
      "                      initialize=wage_schedule)\n",
      "\n",
      "# define utilty parameters\n",
      "model.beta = pyomo.Param(doc='Discount factor', within=pyomo.NonNegativeReals)\n",
      "model.theta = pyomo.Param(doc='Inverse of inter-temporal elasticity of substitution for consumption',\n",
      "                          within=pyomo.NonNegativeReals)\n",
      "model.eta = pyomo.Param(doc='Inverse of inter-temporal elasticity of substitution for labor',\n",
      "                        within=pyomo.NonNegativeReals)\n",
      "\n",
      "# define borrowing constraint\n",
      "model.minimum_assets = pyomo.Param(doc='Lower boundon agent assets.')\n",
      "\n",
      "##### Define model variables #####\n",
      "\n",
      "# declare consumption variable\n",
      "def initial_consumption(model, t):\n",
      "    \"\"\"Rule for initial choice of consumption.\"\"\"\n",
      "    return 0.5\n",
      "\n",
      "model.consumption = pyomo.Var(model.periods, domain=pyomo.PositiveReals, \n",
      "                              initialize=initial_consumption)\n",
      "\n",
      "# declare labor supply variable\n",
      "def initial_labor_supply(model, t):\n",
      "    \"\"\"Rule for initial choice of labor supply.\"\"\"\n",
      "    return 1.0\n",
      "\n",
      "model.labor_supply = pyomo.Var(model.periods, domain=pyomo.PositiveReals, \n",
      "                               initialize=initial_labor_supply)\n",
      "\n",
      "# declare assets variable\n",
      "def initial_assets(model, t):\n",
      "    \"\"\"Rule for initializing assets.\"\"\"\n",
      "    # extract variables\n",
      "    c = model.consumption\n",
      "    l = model.labor_supply\n",
      "    A = model.assets\n",
      "    \n",
      "    # extract parameters\n",
      "    r = model.r\n",
      "    w = model.w\n",
      "    \n",
      "    #if t == 0:\n",
      "    #    assets = 0.0\n",
      "    #else:\n",
      "    #    assets = w[t] * l[t] + (1 + r) * A[t] - c[t]\n",
      "    \n",
      "    return 0.0\n",
      "\n",
      "model.assets = pyomo.Var(pyomo.RangeSet(0, model.T + 1), initialize=initial_assets)\n",
      "\n",
      "##### define the objective function #####\n",
      "\n",
      "def flow_utility(model, c, l):\n",
      "    \"\"\"Flow utility function for the agent.\"\"\"    \n",
      "    # agent likes to eat...\n",
      "    utility_consumption = c**(1 - model.theta) / (1 - model.theta)\n",
      "        \n",
      "    # ...but hates working\n",
      "    disutility_labor = -l**(1 + model.eta) / (1 + model.eta)\n",
      "    \n",
      "    total_utility = utility_consumption + disutility_labor\n",
      "    \n",
      "    return total_utility\n",
      "\n",
      "def lifetime_utility(model):\n",
      "    \"\"\"Abstract representation of our model objective.\"\"\" \n",
      "    # extract variables\n",
      "    c = model.consumption\n",
      "    l = model.labor_supply\n",
      "        \n",
      "    # compute utility\n",
      "    U = sum(model.beta**t * flow_utility(model, c[t], l[t]) for t in model.periods)\n",
      "    \n",
      "    return U \n",
      "\n",
      "model.lifetime_utility = pyomo.Objective(rule=lifetime_utility, sense=pyomo.maximize)\n",
      "\n",
      "##### Define the model constraints #####\n",
      "\n",
      "def flow_budget_constraints(model, t):\n",
      "    \"\"\"Agent faces a sequence of flow budget constraints\"\"\"\n",
      "    # extract variables\n",
      "    c = model.consumption\n",
      "    l = model.labor_supply\n",
      "    A = model.assets\n",
      "    \n",
      "    # extract parameters\n",
      "    r = model.r\n",
      "    w = model.w\n",
      "    \n",
      "    return c[t] + A[t+1] == w[t] * l[t] + (1 + r) * A[t]\n",
      "    \n",
      "model.budget_constraints = pyomo.Constraint(model.periods, rule=flow_budget_constraints)\n",
      "\n",
      "def borrowing_constraint(model, t):\n",
      "    \"\"\"Agent's assets cannot fall below some minimum amount.\"\"\"\n",
      "    return model.assets[t] >= model.minimum_assets\n",
      "\n",
      "model.borrowing_constraint = pyomo.Constraint(model.periods, rule=borrowing_constraint)\n",
      "\n",
      "def endowment(model):\n",
      "    \"\"\"Agent has some initial assets.\"\"\"\n",
      "    return model.assets[0] == 0.0\n",
      "\n",
      "model.endowment = pyomo.Constraint(rule=endowment)\n",
      "\n",
      "def no_bequests(model):\n",
      "    \"\"\"Agent leaves no bequests.\"\"\"\n",
      "    return model.assets[model.T + 1] == 0.0\n",
      "\n",
      "model.no_bequests = pyomo.Constraint(rule=no_bequests)\n"
     ],
     "language": "python",
     "metadata": {},
     "outputs": [
      {
       "output_type": "stream",
       "stream": "stdout",
       "text": [
        "Overwriting lifecycle.py\n"
       ]
      }
     ],
     "prompt_number": 119
    },
    {
     "cell_type": "code",
     "collapsed": false,
     "input": [
      "%%writefile lifecycle.dat\n",
      "\n",
      "param T := 100 ;\n",
      "param R := 65 ;\n",
      "param beta := 0.95 ;\n",
      "param theta := 2.0 ;\n",
      "param eta := 1.0 ;\n",
      "\n",
      "param r := 0.05 ;\n",
      "\n",
      "param minimum_assets := -5.0 ;"
     ],
     "language": "python",
     "metadata": {},
     "outputs": [
      {
       "output_type": "stream",
       "stream": "stdout",
       "text": [
        "Overwriting lifecycle.dat\n"
       ]
      }
     ],
     "prompt_number": 141
    },
    {
     "cell_type": "code",
     "collapsed": false,
     "input": [],
     "language": "python",
     "metadata": {},
     "outputs": []
    },
    {
     "cell_type": "code",
     "collapsed": false,
     "input": [
      "!pyomo lifecycle.py lifecycle.dat --solver=knitroampl --stream-output"
     ],
     "language": "python",
     "metadata": {},
     "outputs": [
      {
       "output_type": "stream",
       "stream": "stdout",
       "text": [
        "\r\n",
        "    Seems like you are using OpenOpt from \r\n",
        "    commercial Enthought Python Distribution;\r\n",
        "    consider using free GPL-licensed alternatives\r\n",
        "    PythonXY (http://www.pythonxy.com) or\r\n",
        "    Sage (http://sagemath.org) instead.\r\n",
        "    \r\n"
       ]
      },
      {
       "output_type": "stream",
       "stream": "stdout",
       "text": [
        "\r\n",
        "    Seems like you are using OpenOpt from \r\n",
        "    commercial Enthought Python Distribution;\r\n",
        "    consider using free GPL-licensed alternatives\r\n",
        "    PythonXY (http://www.pythonxy.com) or\r\n",
        "    Sage (http://sagemath.org) instead.\r\n",
        "    \r\n"
       ]
      },
      {
       "output_type": "stream",
       "stream": "stdout",
       "text": [
        "[    0.00] Setting up Pyomo environment\r\n",
        "[    0.00] Applying Pyomo preprocessing actions\r\n",
        "[    0.00] Creating model\r\n"
       ]
      },
      {
       "output_type": "stream",
       "stream": "stdout",
       "text": [
        "[    0.11] Applying solver\r\n"
       ]
      },
      {
       "output_type": "stream",
       "stream": "stdout",
       "text": [
        "KNITRO: Number of threads = 1\r\n",
        "\r\n",
        "======================================\r\n",
        "       Commercial Ziena License\r\n",
        "             KNITRO 9.0.0\r\n",
        "          Ziena Optimization\r\n",
        "======================================\r\n",
        "\r\n",
        "KNITRO presolve eliminated 2 variables and 103 constraints.\r\n",
        "\r\n",
        "hessian_no_f:         1\r\n",
        "par_concurrent_evals: 0\r\n",
        "KNITRO changing bar_switchrule from AUTO to 2.\r\n",
        "KNITRO changing algorithm from AUTO to 1.\r\n",
        "KNITRO changing bar_murule from AUTO to 4.\r\n",
        "KNITRO changing bar_initpt from AUTO to 3.\r\n",
        "KNITRO changing bar_penaltyrule from AUTO to 2.\r\n",
        "KNITRO changing bar_penaltycons from AUTO to 1.\r\n",
        "KNITRO changing linsolver from AUTO to 2.\r\n",
        "KNITRO fixing 2 variables eliminated from the presolve.\r\n",
        "\r\n",
        "Problem Characteristics\r\n",
        "-----------------------\r\n",
        "Objective goal:  Maximize\r\n",
        "Number of variables:                   304\r\n",
        "    bounded below:                     202\r\n",
        "    bounded above:                       0\r\n",
        "    bounded below and above:             0\r\n",
        "    fixed:                               0\r\n",
        "    free:                              102\r\n",
        "Number of constraints:                 204\r\n",
        "    linear equalities:                 103\r\n",
        "    nonlinear equalities:                0\r\n",
        "    linear inequalities:               101\r\n",
        "    nonlinear inequalities:              0\r\n",
        "    range:                               0\r\n",
        "Number of nonzeros in Jacobian:        505\r\n",
        "Number of nonzeros in Hessian:         202\r\n",
        "\r\n",
        "  Iter      Objective      FeasError   OptError    ||Step||    CGits \r\n",
        "--------  --------------  ----------  ----------  ----------  -------\r\n"
       ]
      },
      {
       "output_type": "stream",
       "stream": "stdout",
       "text": [
        "       0   -4.971877e+01   5.000e-01\r\n",
        "       9   -7.030376e+01   1.776e-15   4.271e-07   7.063e-03        0\r\n",
        "\r\n",
        "EXIT: Locally optimal solution found.\r\n",
        "\r\n",
        "Final Statistics\r\n",
        "----------------\r\n",
        "Final objective value               =  -7.03037559287905e+01\r\n",
        "Final feasibility error (abs / rel) =   1.78e-15 / 1.78e-15\r\n",
        "Final optimality error  (abs / rel) =   4.27e-07 / 5.00e-08\r\n",
        "# of iterations                     =          9 \r\n",
        "# of CG iterations                  =          0 \r\n",
        "# of function evaluations           =         10\r\n",
        "# of gradient evaluations           =         10\r\n",
        "# of Hessian evaluations            =          9\r\n",
        "Total program time (secs)           =       0.01321 (     0.010 CPU time)\r\n",
        "Time spent in evaluations (secs)    =       0.00086\r\n",
        "\r\n",
        "===============================================================================\r\n",
        "\r\n",
        "KNITRO 9.0.0: Locally optimal solution.\r\n",
        "objective -70.30375592879047; feasibility error 1.78e-15\r\n",
        "9 iterations; 10 function evaluations\r\n",
        "[    0.27] Processing results\r\n"
       ]
      },
      {
       "output_type": "stream",
       "stream": "stdout",
       "text": [
        "    Number of solutions: 1\r\n",
        "    Solution Information\r\n",
        "      Gap: <undefined>\r\n",
        "      Status: optimal\r\n",
        "      Function Value: -70.3037559288\r\n",
        "    Solver results file: results.yml\r\n",
        "[    0.30] Applying Pyomo postprocessing actions\r\n",
        "[    0.30] Pyomo Finished\r\n"
       ]
      }
     ],
     "prompt_number": 151
    },
    {
     "cell_type": "code",
     "collapsed": false,
     "input": [
      "stream = open(\"results.yml\", 'r')\n",
      "results = yaml.load(stream)"
     ],
     "language": "python",
     "metadata": {},
     "outputs": [],
     "prompt_number": 143
    },
    {
     "cell_type": "code",
     "collapsed": false,
     "input": [
      "assets = [0.0]\n",
      "consumption = []\n",
      "labor_supply = []\n",
      "\n",
      "for t in range(101):\n",
      "    #assets.append(results['Solution'][1]['Variable']['assets[%i]' %(t+1)]['Value'])\n",
      "    consumption.append(results['Solution'][1]['Variable']['consumption[%i]' %t]['Value'])\n",
      "    labor_supply.append(results['Solution'][1]['Variable']['labor_supply[%i]' %t]['Value'])"
     ],
     "language": "python",
     "metadata": {},
     "outputs": [],
     "prompt_number": 144
    },
    {
     "cell_type": "code",
     "collapsed": false,
     "input": [
      "plt.figure(figsize=(8,6))\n",
      "\n",
      "plt.plot(range(101), consumption)\n",
      "plt.plot(range(101), labor_supply)\n",
      "plt.grid()\n",
      "plt.show()"
     ],
     "language": "python",
     "metadata": {},
     "outputs": [
      {
       "metadata": {},
       "output_type": "display_data",
       "png": "[encoded data removed]",
       "text": [
        "<matplotlib.figure.Figure at 0x98afaf0>"
       ]
      }
     ],
     "prompt_number": 145
    },
    {
     "cell_type": "code",
     "collapsed": false,
     "input": [
      "!pyomo --help"
     ],
     "language": "python",
     "metadata": {},
     "outputs": [
      {
       "output_type": "stream",
       "stream": "stdout",
       "text": [
        "\r\n",
        "    Seems like you are using OpenOpt from \r\n",
        "    commercial Enthought Python Distribution;\r\n",
        "    consider using free GPL-licensed alternatives\r\n",
        "    PythonXY (http://www.pythonxy.com) or\r\n",
        "    Sage (http://sagemath.org) instead.\r\n",
        "    \r\n"
       ]
      },
      {
       "output_type": "stream",
       "stream": "stdout",
       "text": [
        "\r\n",
        "    Seems like you are using OpenOpt from \r\n",
        "    commercial Enthought Python Distribution;\r\n",
        "    consider using free GPL-licensed alternatives\r\n",
        "    PythonXY (http://www.pythonxy.com) or\r\n",
        "    Sage (http://sagemath.org) instead.\r\n",
        "    \r\n"
       ]
      },
      {
       "output_type": "stream",
       "stream": "stdout",
       "text": [
        "usage: pyomo [options] <model_file> [<data_files>]\r\n",
        "\r\n",
        "positional arguments:\r\n",
        "  model_file            A Python module that defines a Pyomo model\r\n",
        "  data_files            Pyomo data files that defined data used to create a\r\n",
        "                        model instance\r\n",
        "\r\n",
        "optional arguments:\r\n",
        "  -h, --help            show this help message and exit\r\n",
        "  --help-solvers        Print information about the solvers can be used to\r\n",
        "                        solve Pyomo models.\r\n",
        "  --help-components     Print information about modeling components supported\r\n",
        "                        by Pyomo\r\n",
        "\r\n",
        "Model Options:\r\n",
        "  --preprocess PREPROCESS, --load PREPROCESS\r\n",
        "                        Specify a Python module that gets immediately executed\r\n",
        "                        (before the optimization model is setup). If this\r\n",
        "                        option is specified multiple times, then the modules\r\n",
        "                        are executed in the specified order.\r\n",
        "  --model-name MODEL_NAME\r\n",
        "                        The name of the model object that is created in the\r\n",
        "                        specified.Pyomo module\r\n",
        "  --model-options MODEL_OPTIONS\r\n",
        "                        Options passed into a create_model() function to\r\n",
        "                        construct the model.\r\n",
        "  --flatten-expressions, --linearize-expressions\r\n",
        "                        EXPERIMENTAL: An option intended for use on linear or\r\n",
        "                        mixed-integer models in which expression trees in a\r\n",
        "                        model (constraints or objectives) are compacted into a\r\n",
        "                        more memory-efficient and concise form. The expression\r\n",
        "                        trees themselves are eliminated.\r\n",
        "  --skip-canonical-repn\r\n",
        "                        Do not create the canonical representation. This is\r\n",
        "                        not necessary for solvers (e.g., ASL-based) that do\r\n",
        "                        not require it.\r\n",
        "  --save-model SAVE_MODEL\r\n",
        "                        Specify the filename to which the model is saved. The\r\n",
        "                        suffix of this filename specifies the file format. If\r\n",
        "                        debugging is on, then this defaults to writing the\r\n",
        "                        file 'unknown.lp'.\r\n",
        "  --symbolic-solver-labels\r\n",
        "                        When interfacing with the solver, use symbol names\r\n",
        "                        derived from the model. For example,\r\n",
        "                        \"my_special_variable[1_2_3]\" instead of \"v1\". Useful\r\n",
        "                        for debugging. When using the ASL interface (--solver-\r\n",
        "                        io=nl), generates corresponding .row (constraints) and\r\n",
        "                        .col (variables) files. The ordering in these files\r\n",
        "                        provides a mapping from ASL index to symbolic model\r\n",
        "                        names.\r\n",
        "  --ns NAMESPACES, --namespace NAMESPACES\r\n",
        "                        Specify a namespace that is used to select data in\r\n",
        "                        Pyomo data files. If this is specified multiple times\r\n",
        "                        then the union of the data in these namespaces is used\r\n",
        "                        to create the model instance.\r\n",
        "  --instance-only       Generate a model instance, and then return.\r\n",
        "\r\n",
        "Solver Options:\r\n",
        "  --solver SOLVER       This option specifies the type of solver that is used\r\n",
        "                        to optimize the Pyomo model instance. Use the --help-\r\n",
        "                        solvers option to get detailed information concerning\r\n",
        "                        how solvers are executed.\r\n",
        "  --solver-io SOLVER_IO\r\n",
        "                        The type of IO used to execute the solver. Different\r\n",
        "                        solvers support different types of IO, but the\r\n",
        "                        following are common options: lp - generate LP files,\r\n",
        "                        nl - generate NL files, python - direct Python\r\n",
        "                        interface, os - generate OSiL XML files.\r\n",
        "  --solver-manager {serial}\r\n",
        "                        Specify the technique that is used to manage solver\r\n",
        "                        executions.\r\n",
        "  --solver-options SOLVER_OPTIONS\r\n",
        "                        Options passed into the solver.\r\n",
        "  --solver-suffixes SOLVER_SUFFIXES\r\n",
        "                        One or more solution suffixes to be extracted by the\r\n",
        "                        solver (e.g., rc, dual, or slack). Multiple options\r\n",
        "                        are specified by supplying the keyword options\r\n",
        "                        multiple times. The use of this option is not required\r\n",
        "                        when a suffix has been declared on the model using\r\n",
        "                        Pyomo's Suffix component.\r\n",
        "  --timelimit TIMELIMIT\r\n",
        "                        Limit to the number of seconds that the solver is run.\r\n",
        "  --stream-solver, --stream-output\r\n",
        "                        Stream the solver output to provide information about\r\n",
        "                        the solver's progress.\r\n",
        "\r\n",
        "Post-Solve Options:\r\n",
        "  --postprocess POSTPROCESS\r\n",
        "                        Specify a Python module that gets executed after\r\n",
        "                        optimization. If this option is specified multiple\r\n",
        "                        times, then the modules are executed in the specified\r\n",
        "                        order.\r\n",
        "  -l, --log             Print the solver logfile after performing\r\n",
        "                        optimization.\r\n",
        "  --save-results SAVE_RESULTS\r\n",
        "                        Specify the filename to which the results are saved.\r\n",
        "  --show-results        Print the results object after optimization.\r\n",
        "  --json                Print results in JSON format. The default is YAML, if\r\n",
        "                        the PyYAML utility is available\r\n",
        "  -s, --summary         Summarize the final solution after performing\r\n",
        "                        optimization.\r\n",
        "\r\n",
        "Logging Options:\r\n",
        "  -q, --quiet           Disable all log messages except for those that refer\r\n",
        "                        to errors.\r\n",
        "  -w, --warning         Enable warning log messages for coopr and pyutilib.\r\n",
        "  -i, --info            Enable informative log messages for coopr and\r\n",
        "                        pyutilib.\r\n",
        "  -v, --verbose         Indicate that debugging log messages should be\r\n",
        "                        printed. This option can be specified multiple times\r\n",
        "                        to add log messages for other parts of coopr and\r\n",
        "                        pyutilib.\r\n",
        "  -d, --debug           This option indicates that debugging is performed.\r\n",
        "                        This implies the verbose flag, but it also allows\r\n",
        "                        exceptions to trigger a failure in which the program\r\n",
        "                        stack is printed.\r\n",
        "\r\n",
        "Miscellaneous Options:\r\n",
        "  --output OUTPUT       Redirect output to the specified file.\r\n",
        "  -c, --catch-errors    This option allows exceptions to trigger a failure in\r\n",
        "                        which the program stack is printed.\r\n",
        "  --disable-gc          Disable the garbage collecter.\r\n",
        "  --interactive         After executing Pyomo, launch an interactive Python\r\n",
        "                        shell. If IPython is installed, this shell is an\r\n",
        "                        IPython shell.\r\n",
        "  -k, --keepfiles       Keep temporary files.\r\n",
        "  --path PATH           Give a path that is used to find the Pyomo python\r\n",
        "                        files.\r\n",
        "  --profile PROFILE     Enable profiling of Python code. The value of this\r\n",
        "                        option is the number of functions that are summarized.\r\n",
        "  --report-timing       Report various timing statistics during model\r\n",
        "                        construction. Defaults to disabled.\r\n",
        "  --tempdir TEMPDIR     Specify the directory where temporary files are\r\n",
        "                        generated.\r\n",
        "  --version             Display main Coopr version and exit\r\n"
       ]
      }
     ],
     "prompt_number": 97
    },
    {
     "cell_type": "code",
     "collapsed": false,
     "input": [],
     "language": "python",
     "metadata": {},
     "outputs": []
    }
   ],
   "metadata": {}
  }
 ]
}